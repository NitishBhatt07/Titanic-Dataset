{
 "cells": [
  {
   "cell_type": "code",
   "execution_count": 1,
   "id": "44414d96",
   "metadata": {},
   "outputs": [],
   "source": [
    "import pandas as pd\n",
    "import numpy as np\n",
    "import warnings\n",
    "import seaborn as sns\n",
    "warnings.filterwarnings('ignore')"
   ]
  },
  {
   "cell_type": "code",
   "execution_count": 2,
   "id": "ca95eb0c",
   "metadata": {},
   "outputs": [],
   "source": [
    "train = pd.read_csv('train.csv')\n",
    "test = pd.read_csv('test.csv')"
   ]
  },
  {
   "cell_type": "markdown",
   "id": "31e34f32",
   "metadata": {},
   "source": [
    "### Feature Engineering -> Train Data"
   ]
  },
  {
   "cell_type": "code",
   "execution_count": 3,
   "id": "cc3db1d6",
   "metadata": {},
   "outputs": [],
   "source": [
    "# filling Nan value of Age\n",
    "train.Age = train.Age.fillna(train.Age.median())\n",
    "\n",
    "# filling Nan value of Emabarked\n",
    "train.Embarked = train.Embarked.fillna(train.Embarked.mode()[0])\n",
    "\n",
    "# getting Dummie variables for Sex feature\n",
    "gender_dummies = pd.get_dummies(train.Sex,drop_first=True)\n",
    "\n",
    "# getting Dummie variables for Embarked feature\n",
    "Embarked_dummies = pd.get_dummies(train.Embarked,drop_first=True)\n",
    "\n",
    "# converting the Name feature to Rare,Miss,Mrs\n",
    "train['title'] = train.Name.str.extract(' ([A-Za-z]+)\\.',expand=False)\n",
    "train['title'] = train['title'].replace(['Lady', 'Countess','Capt', 'Col','Don', 'Dr', 'Major', 'Rev', 'Sir', 'Jonkheer', 'Dona'], 'Rare')\n",
    "train['title'] = train['title'].replace('Mlle', 'Miss')\n",
    "train['title'] = train['title'].replace('Ms', 'Miss')\n",
    "train['title'] = train['title'].replace('Mme', 'Mrs')\n",
    "\n",
    "# getting Dummie variables for title feature\n",
    "title_dummies = pd.get_dummies(train.title,drop_first=True)\n",
    "\n",
    "# concating all dummies with train dataframe\n",
    "train = pd.concat([train,gender_dummies,Embarked_dummies,title_dummies],axis=1)\n",
    "\n",
    "# droping the main features after geting dummies\n",
    "train = train.drop([\"PassengerId\",\"Cabin\",\"Sex\",\"Ticket\",\"Embarked\",\"Name\",\"title\"],axis=1)"
   ]
  },
  {
   "cell_type": "markdown",
   "id": "09aab2e2",
   "metadata": {},
   "source": [
    "### Feature Engineering -> Test Data"
   ]
  },
  {
   "cell_type": "code",
   "execution_count": 4,
   "id": "ed682fcf",
   "metadata": {},
   "outputs": [],
   "source": [
    "# filling Nan value of Age\n",
    "test.Age = test.Age.fillna(test.Age.median())\n",
    "\n",
    "# filling Nan value of Fare\n",
    "test.Fare = test.Fare.fillna(test.Fare.mode()[0])\n",
    "\n",
    "# getting Dummie variables for Sex feature\n",
    "gender_dummies = pd.get_dummies(test.Sex,drop_first=True)\n",
    "\n",
    "# getting Dummie variables for Embarked feature\n",
    "Embarked_dummies = pd.get_dummies(test.Embarked,drop_first=True)\n",
    "\n",
    "# converting the Name feature to Rare,Miss,Mrs\n",
    "test['title'] = test.Name.str.extract(' ([A-Za-z]+)\\.',expand=False)\n",
    "test['title'] = test['title'].replace(['Lady', 'Countess','Capt', 'Col','Don', 'Dr', 'Major', 'Rev', 'Sir', 'Jonkheer', 'Dona'], 'Rare')\n",
    "test['title'] = test['title'].replace('Mlle', 'Miss')\n",
    "test['title'] = test['title'].replace('Ms', 'Miss')\n",
    "test['title'] = test['title'].replace('Mme', 'Mrs')\n",
    "\n",
    "# getting Dummie variables for title feature\n",
    "title_dummies = pd.get_dummies(test.title,drop_first=True)\n",
    "\n",
    "# concating all dummies with train dataframe\n",
    "test = pd.concat([test,gender_dummies,Embarked_dummies,title_dummies],axis=1)\n",
    "\n",
    "# droping the main features after geting dummies\n",
    "test = test.drop([\"PassengerId\",\"Cabin\",\"Sex\",\"Ticket\",\"Embarked\",\"Name\",\"title\"],axis=1)"
   ]
  },
  {
   "cell_type": "code",
   "execution_count": 5,
   "id": "240ac135",
   "metadata": {},
   "outputs": [],
   "source": [
    "train['Total_Family_member'] = (train.SibSp + train.Parch)+1"
   ]
  },
  {
   "cell_type": "code",
   "execution_count": 6,
   "id": "846907d0",
   "metadata": {},
   "outputs": [
    {
     "data": {
      "text/plain": [
       "1     537\n",
       "2     161\n",
       "3     102\n",
       "4      29\n",
       "6      22\n",
       "5      15\n",
       "7      12\n",
       "11      7\n",
       "8       6\n",
       "Name: Total_Family_member, dtype: int64"
      ]
     },
     "execution_count": 6,
     "metadata": {},
     "output_type": "execute_result"
    }
   ],
   "source": [
    "train.Total_Family_member.value_counts()"
   ]
  },
  {
   "cell_type": "code",
   "execution_count": 7,
   "id": "5dea7fdb",
   "metadata": {},
   "outputs": [
    {
     "data": {
      "text/plain": [
       "<AxesSubplot:xlabel='Age'>"
      ]
     },
     "execution_count": 7,
     "metadata": {},
     "output_type": "execute_result"
    },
    {
     "data": {
      "image/png": "[encoded data removed]",
      "text/plain": [
       "<Figure size 432x288 with 1 Axes>"
      ]
     },
     "metadata": {
      "needs_background": "light"
     },
     "output_type": "display_data"
    }
   ],
   "source": [
    "sns.boxplot(train.Age)"
   ]
  },
  {
   "cell_type": "code",
   "execution_count": 8,
   "id": "c9566e5e",
   "metadata": {},
   "outputs": [
    {
     "data": {
      "text/plain": [
       "<AxesSubplot:xlabel='Age', ylabel='Density'>"
      ]
     },
     "execution_count": 8,
     "metadata": {},
     "output_type": "execute_result"
    },
    {
     "data": {
      "image/png": "[encoded data removed]",
      "text/plain": [
       "<Figure size 432x288 with 1 Axes>"
      ]
     },
     "metadata": {
      "needs_background": "light"
     },
     "output_type": "display_data"
    }
   ],
   "source": [
    "sns.distplot(train.Age)"
   ]
  },
  {
   "cell_type": "code",
   "execution_count": 9,
   "id": "8a9ad062",
   "metadata": {},
   "outputs": [],
   "source": [
    "age_mean = train.Age.mean()\n",
    "age_std = train.Age.std()\n",
    "lower = age_mean - 3*age_std\n",
    "upper = age_mean + 3*age_std\n",
    "\n",
    "# identify outliers\n",
    "outliers = [x for x in train.Age if x < lower or x > upper]\n",
    "\n",
    "# remove outliers\n",
    "outliers_removed = [x for x in train.Age if x >= lower and x <= upper]\n",
    "\n",
    "for i in range(len(outliers)):\n",
    "    outliers_removed.append(np.median(outliers_removed))\n",
    "\n",
    "train['Age_outlier_removed'] = outliers_removed"
   ]
  },
  {
   "cell_type": "code",
   "execution_count": 10,
   "id": "c82d1ca0",
   "metadata": {},
   "outputs": [
    {
     "data": {
      "text/plain": [
       "<AxesSubplot:xlabel='Fare'>"
      ]
     },
     "execution_count": 10,
     "metadata": {},
     "output_type": "execute_result"
    },
    {
     "data": {
      "image/png": "[encoded data removed]",
      "text/plain": [
       "<Figure size 432x288 with 1 Axes>"
      ]
     },
     "metadata": {
      "needs_background": "light"
     },
     "output_type": "display_data"
    }
   ],
   "source": [
    "sns.boxplot(train.Fare)"
   ]
  },
  {
   "cell_type": "code",
   "execution_count": 11,
   "id": "e6ac3290",
   "metadata": {},
   "outputs": [
    {
     "data": {
      "text/plain": [
       "<AxesSubplot:xlabel='Fare', ylabel='Density'>"
      ]
     },
     "execution_count": 11,
     "metadata": {},
     "output_type": "execute_result"
    },
    {
     "data": {
      "image/png": "[encoded data removed]",
      "text/plain": [
       "<Figure size 432x288 with 1 Axes>"
      ]
     },
     "metadata": {
      "needs_background": "light"
     },
     "output_type": "display_data"
    }
   ],
   "source": [
    "sns.distplot(train.Fare)"
   ]
  },
  {
   "cell_type": "code",
   "execution_count": 12,
   "id": "dd9c25b7",
   "metadata": {},
   "outputs": [],
   "source": [
    "## for non-GD data"
   ]
  },
  {
   "cell_type": "code",
   "execution_count": 13,
   "id": "81827306",
   "metadata": {},
   "outputs": [],
   "source": [
    "# calculate interquartile range\n",
    "q25 = np.percentile(train.Fare , 25)\n",
    "q90 = np.percentile(train.Fare,90)\n",
    "\n",
    "iqr = q90 - q25\n",
    "cut_off = iqr * 1.5\n",
    "\n",
    "lower = q25 - cut_off\n",
    "upper = q90 + cut_off\n",
    "\n",
    "# identify outliers\n",
    "outliers_fare = [x for x in train.Fare if x < lower or x > upper]\n",
    "\n",
    "# remove outliers\n",
    "outliers_removed_fare = [x for x in train.Fare if x >= lower and x <= upper]\n",
    "\n",
    "for i in range(len(outliers_fare)):\n",
    "    outliers_removed_fare.append(np.mean(outliers_removed_fare))\n",
    "\n",
    "train['outliers_removed_fare'] = outliers_removed_fare"
   ]
  },
  {
   "cell_type": "code",
   "execution_count": 14,
   "id": "81d8dbff",
   "metadata": {},
   "outputs": [],
   "source": [
    "train = train.drop(['Age','Fare',\"SibSp\",'Parch'],axis=1)"
   ]
  },
  {
   "cell_type": "code",
   "execution_count": 15,
   "id": "d787ee55",
   "metadata": {},
   "outputs": [
    {
     "data": {
      "text/plain": [
       "1     537\n",
       "2     161\n",
       "3     102\n",
       "4      29\n",
       "6      22\n",
       "5      15\n",
       "7      12\n",
       "11      7\n",
       "8       6\n",
       "Name: Total_Family_member, dtype: int64"
      ]
     },
     "execution_count": 15,
     "metadata": {},
     "output_type": "execute_result"
    }
   ],
   "source": [
    "train.Total_Family_member.value_counts()"
   ]
  },
  {
   "cell_type": "code",
   "execution_count": 16,
   "id": "7a56fe4e",
   "metadata": {},
   "outputs": [
    {
     "data": {
      "text/html": [
       "<div>\n",
       "<style scoped>\n",
       "    .dataframe tbody tr th:only-of-type {\n",
       "        vertical-align: middle;\n",
       "    }\n",
       "\n",
       "    .dataframe tbody tr th {\n",
       "        vertical-align: top;\n",
       "    }\n",
       "\n",
       "    .dataframe thead th {\n",
       "        text-align: right;\n",
       "    }\n",
       "</style>\n",
       "<table border=\"1\" class=\"dataframe\">\n",
       "  <thead>\n",
       "    <tr style=\"text-align: right;\">\n",
       "      <th></th>\n",
       "      <th>Survived</th>\n",
       "      <th>Pclass</th>\n",
       "      <th>male</th>\n",
       "      <th>Q</th>\n",
       "      <th>S</th>\n",
       "      <th>Miss</th>\n",
       "      <th>Mr</th>\n",
       "      <th>Mrs</th>\n",
       "      <th>Rare</th>\n",
       "      <th>Total_Family_member</th>\n",
       "      <th>Age_outlier_removed</th>\n",
       "      <th>outliers_removed_fare</th>\n",
       "    </tr>\n",
       "  </thead>\n",
       "  <tbody>\n",
       "    <tr>\n",
       "      <th>0</th>\n",
       "      <td>0</td>\n",
       "      <td>3</td>\n",
       "      <td>1</td>\n",
       "      <td>0</td>\n",
       "      <td>1</td>\n",
       "      <td>0</td>\n",
       "      <td>1</td>\n",
       "      <td>0</td>\n",
       "      <td>0</td>\n",
       "      <td>2</td>\n",
       "      <td>22.0</td>\n",
       "      <td>7.2500</td>\n",
       "    </tr>\n",
       "    <tr>\n",
       "      <th>1</th>\n",
       "      <td>1</td>\n",
       "      <td>1</td>\n",
       "      <td>0</td>\n",
       "      <td>0</td>\n",
       "      <td>0</td>\n",
       "      <td>0</td>\n",
       "      <td>0</td>\n",
       "      <td>1</td>\n",
       "      <td>0</td>\n",
       "      <td>2</td>\n",
       "      <td>38.0</td>\n",
       "      <td>71.2833</td>\n",
       "    </tr>\n",
       "    <tr>\n",
       "      <th>2</th>\n",
       "      <td>1</td>\n",
       "      <td>3</td>\n",
       "      <td>0</td>\n",
       "      <td>0</td>\n",
       "      <td>1</td>\n",
       "      <td>1</td>\n",
       "      <td>0</td>\n",
       "      <td>0</td>\n",
       "      <td>0</td>\n",
       "      <td>1</td>\n",
       "      <td>26.0</td>\n",
       "      <td>7.9250</td>\n",
       "    </tr>\n",
       "    <tr>\n",
       "      <th>3</th>\n",
       "      <td>1</td>\n",
       "      <td>1</td>\n",
       "      <td>0</td>\n",
       "      <td>0</td>\n",
       "      <td>1</td>\n",
       "      <td>0</td>\n",
       "      <td>0</td>\n",
       "      <td>1</td>\n",
       "      <td>0</td>\n",
       "      <td>2</td>\n",
       "      <td>35.0</td>\n",
       "      <td>53.1000</td>\n",
       "    </tr>\n",
       "    <tr>\n",
       "      <th>4</th>\n",
       "      <td>0</td>\n",
       "      <td>3</td>\n",
       "      <td>1</td>\n",
       "      <td>0</td>\n",
       "      <td>1</td>\n",
       "      <td>0</td>\n",
       "      <td>1</td>\n",
       "      <td>0</td>\n",
       "      <td>0</td>\n",
       "      <td>1</td>\n",
       "      <td>35.0</td>\n",
       "      <td>8.0500</td>\n",
       "    </tr>\n",
       "  </tbody>\n",
       "</table>\n",
       "</div>"
      ],
      "text/plain": [
       "   Survived  Pclass  male  Q  S  Miss  Mr  Mrs  Rare  Total_Family_member  \\\n",
       "0         0       3     1  0  1     0   1    0     0                    2   \n",
       "1         1       1     0  0  0     0   0    1     0                    2   \n",
       "2         1       3     0  0  1     1   0    0     0                    1   \n",
       "3         1       1     0  0  1     0   0    1     0                    2   \n",
       "4         0       3     1  0  1     0   1    0     0                    1   \n",
       "\n",
       "   Age_outlier_removed  outliers_removed_fare  \n",
       "0                 22.0                 7.2500  \n",
       "1                 38.0                71.2833  \n",
       "2                 26.0                 7.9250  \n",
       "3                 35.0                53.1000  \n",
       "4                 35.0                 8.0500  "
      ]
     },
     "execution_count": 16,
     "metadata": {},
     "output_type": "execute_result"
    }
   ],
   "source": [
    "train.head()"
   ]
  },
  {
   "cell_type": "code",
   "execution_count": 17,
   "id": "1a13ee49",
   "metadata": {},
   "outputs": [
    {
     "name": "stdout",
     "output_type": "stream",
     "text": [
      "<class 'pandas.core.frame.DataFrame'>\n",
      "RangeIndex: 891 entries, 0 to 890\n",
      "Data columns (total 12 columns):\n",
      " #   Column                 Non-Null Count  Dtype  \n",
      "---  ------                 --------------  -----  \n",
      " 0   Survived               891 non-null    int64  \n",
      " 1   Pclass                 891 non-null    int64  \n",
      " 2   male                   891 non-null    uint8  \n",
      " 3   Q                      891 non-null    uint8  \n",
      " 4   S                      891 non-null    uint8  \n",
      " 5   Miss                   891 non-null    uint8  \n",
      " 6   Mr                     891 non-null    uint8  \n",
      " 7   Mrs                    891 non-null    uint8  \n",
      " 8   Rare                   891 non-null    uint8  \n",
      " 9   Total_Family_member    891 non-null    int64  \n",
      " 10  Age_outlier_removed    891 non-null    float64\n",
      " 11  outliers_removed_fare  891 non-null    float64\n",
      "dtypes: float64(2), int64(3), uint8(7)\n",
      "memory usage: 41.0 KB\n"
     ]
    }
   ],
   "source": [
    "train.info()"
   ]
  },
  {
   "cell_type": "code",
   "execution_count": 18,
   "id": "5dd3b019",
   "metadata": {},
   "outputs": [],
   "source": [
    "## fOR test"
   ]
  },
  {
   "cell_type": "code",
   "execution_count": 19,
   "id": "65a44148",
   "metadata": {},
   "outputs": [],
   "source": [
    "test['Total_Family_member'] = (test.SibSp + test.Parch)+1"
   ]
  },
  {
   "cell_type": "code",
   "execution_count": 20,
   "id": "2cb1103d",
   "metadata": {},
   "outputs": [],
   "source": [
    "age_mean = test.Age.mean()\n",
    "age_std = test.Age.std()\n",
    "lower = age_mean - 3*age_std\n",
    "upper = age_mean + 3*age_std\n",
    "\n",
    "# identify outliers\n",
    "outliers = [x for x in test.Age if x < lower or x > upper]\n",
    "\n",
    "# remove outliers\n",
    "outliers_removed = [x for x in test.Age if x >= lower and x <= upper]\n",
    "\n",
    "for i in range(len(outliers)):\n",
    "    outliers_removed.append(np.median(outliers_removed))\n",
    "\n",
    "test['Age_outlier_removed'] = outliers_removed"
   ]
  },
  {
   "cell_type": "code",
   "execution_count": 21,
   "id": "339a27ac",
   "metadata": {},
   "outputs": [],
   "source": [
    "# calculate interquartile range\n",
    "q25 = np.percentile(test.Fare , 25)\n",
    "q90 = np.percentile(test.Fare,90)\n",
    "\n",
    "iqr = q90 - q25\n",
    "cut_off = iqr * 1.5\n",
    "\n",
    "lower = q25 - cut_off\n",
    "upper = q90 + cut_off\n",
    "\n",
    "# identify outliers\n",
    "outliers_fare = [x for x in test.Fare if x < lower or x > upper]\n",
    "\n",
    "# remove outliers\n",
    "outliers_removed_fare = [x for x in test.Fare if x >= lower and x <= upper]\n",
    "\n",
    "for i in range(len(outliers_fare)):\n",
    "    outliers_removed_fare.append(np.mean(outliers_removed_fare))\n",
    "\n",
    "test['outliers_removed_fare'] = outliers_removed_fare"
   ]
  },
  {
   "cell_type": "code",
   "execution_count": 22,
   "id": "71c4a9e2",
   "metadata": {},
   "outputs": [],
   "source": [
    "test = test.drop(['Age','Fare',\"SibSp\",'Parch'],axis=1)"
   ]
  },
  {
   "cell_type": "code",
   "execution_count": 23,
   "id": "05b20937",
   "metadata": {},
   "outputs": [
    {
     "data": {
      "text/html": [
       "<div>\n",
       "<style scoped>\n",
       "    .dataframe tbody tr th:only-of-type {\n",
       "        vertical-align: middle;\n",
       "    }\n",
       "\n",
       "    .dataframe tbody tr th {\n",
       "        vertical-align: top;\n",
       "    }\n",
       "\n",
       "    .dataframe thead th {\n",
       "        text-align: right;\n",
       "    }\n",
       "</style>\n",
       "<table border=\"1\" class=\"dataframe\">\n",
       "  <thead>\n",
       "    <tr style=\"text-align: right;\">\n",
       "      <th></th>\n",
       "      <th>Pclass</th>\n",
       "      <th>male</th>\n",
       "      <th>Q</th>\n",
       "      <th>S</th>\n",
       "      <th>Miss</th>\n",
       "      <th>Mr</th>\n",
       "      <th>Mrs</th>\n",
       "      <th>Rare</th>\n",
       "      <th>Total_Family_member</th>\n",
       "      <th>Age_outlier_removed</th>\n",
       "      <th>outliers_removed_fare</th>\n",
       "    </tr>\n",
       "  </thead>\n",
       "  <tbody>\n",
       "    <tr>\n",
       "      <th>0</th>\n",
       "      <td>3</td>\n",
       "      <td>1</td>\n",
       "      <td>1</td>\n",
       "      <td>0</td>\n",
       "      <td>0</td>\n",
       "      <td>1</td>\n",
       "      <td>0</td>\n",
       "      <td>0</td>\n",
       "      <td>1</td>\n",
       "      <td>34.5</td>\n",
       "      <td>7.8292</td>\n",
       "    </tr>\n",
       "    <tr>\n",
       "      <th>1</th>\n",
       "      <td>3</td>\n",
       "      <td>0</td>\n",
       "      <td>0</td>\n",
       "      <td>1</td>\n",
       "      <td>0</td>\n",
       "      <td>0</td>\n",
       "      <td>1</td>\n",
       "      <td>0</td>\n",
       "      <td>2</td>\n",
       "      <td>47.0</td>\n",
       "      <td>7.0000</td>\n",
       "    </tr>\n",
       "    <tr>\n",
       "      <th>2</th>\n",
       "      <td>2</td>\n",
       "      <td>1</td>\n",
       "      <td>1</td>\n",
       "      <td>0</td>\n",
       "      <td>0</td>\n",
       "      <td>1</td>\n",
       "      <td>0</td>\n",
       "      <td>0</td>\n",
       "      <td>1</td>\n",
       "      <td>62.0</td>\n",
       "      <td>9.6875</td>\n",
       "    </tr>\n",
       "    <tr>\n",
       "      <th>3</th>\n",
       "      <td>3</td>\n",
       "      <td>1</td>\n",
       "      <td>0</td>\n",
       "      <td>1</td>\n",
       "      <td>0</td>\n",
       "      <td>1</td>\n",
       "      <td>0</td>\n",
       "      <td>0</td>\n",
       "      <td>1</td>\n",
       "      <td>27.0</td>\n",
       "      <td>8.6625</td>\n",
       "    </tr>\n",
       "    <tr>\n",
       "      <th>4</th>\n",
       "      <td>3</td>\n",
       "      <td>0</td>\n",
       "      <td>0</td>\n",
       "      <td>1</td>\n",
       "      <td>0</td>\n",
       "      <td>0</td>\n",
       "      <td>1</td>\n",
       "      <td>0</td>\n",
       "      <td>3</td>\n",
       "      <td>22.0</td>\n",
       "      <td>12.2875</td>\n",
       "    </tr>\n",
       "  </tbody>\n",
       "</table>\n",
       "</div>"
      ],
      "text/plain": [
       "   Pclass  male  Q  S  Miss  Mr  Mrs  Rare  Total_Family_member  \\\n",
       "0       3     1  1  0     0   1    0     0                    1   \n",
       "1       3     0  0  1     0   0    1     0                    2   \n",
       "2       2     1  1  0     0   1    0     0                    1   \n",
       "3       3     1  0  1     0   1    0     0                    1   \n",
       "4       3     0  0  1     0   0    1     0                    3   \n",
       "\n",
       "   Age_outlier_removed  outliers_removed_fare  \n",
       "0                 34.5                 7.8292  \n",
       "1                 47.0                 7.0000  \n",
       "2                 62.0                 9.6875  \n",
       "3                 27.0                 8.6625  \n",
       "4                 22.0                12.2875  "
      ]
     },
     "execution_count": 23,
     "metadata": {},
     "output_type": "execute_result"
    }
   ],
   "source": [
    "test.head()"
   ]
  },
  {
   "cell_type": "code",
   "execution_count": 24,
   "id": "794ed112",
   "metadata": {},
   "outputs": [
    {
     "data": {
      "text/html": [
       "<div>\n",
       "<style scoped>\n",
       "    .dataframe tbody tr th:only-of-type {\n",
       "        vertical-align: middle;\n",
       "    }\n",
       "\n",
       "    .dataframe tbody tr th {\n",
       "        vertical-align: top;\n",
       "    }\n",
       "\n",
       "    .dataframe thead th {\n",
       "        text-align: right;\n",
       "    }\n",
       "</style>\n",
       "<table border=\"1\" class=\"dataframe\">\n",
       "  <thead>\n",
       "    <tr style=\"text-align: right;\">\n",
       "      <th></th>\n",
       "      <th>Survived</th>\n",
       "      <th>Pclass</th>\n",
       "      <th>male</th>\n",
       "      <th>Q</th>\n",
       "      <th>S</th>\n",
       "      <th>Miss</th>\n",
       "      <th>Mr</th>\n",
       "      <th>Mrs</th>\n",
       "      <th>Rare</th>\n",
       "      <th>Total_Family_member</th>\n",
       "      <th>Age_outlier_removed</th>\n",
       "      <th>outliers_removed_fare</th>\n",
       "    </tr>\n",
       "  </thead>\n",
       "  <tbody>\n",
       "    <tr>\n",
       "      <th>0</th>\n",
       "      <td>0</td>\n",
       "      <td>3</td>\n",
       "      <td>1</td>\n",
       "      <td>0</td>\n",
       "      <td>1</td>\n",
       "      <td>0</td>\n",
       "      <td>1</td>\n",
       "      <td>0</td>\n",
       "      <td>0</td>\n",
       "      <td>2</td>\n",
       "      <td>22.0</td>\n",
       "      <td>7.2500</td>\n",
       "    </tr>\n",
       "    <tr>\n",
       "      <th>1</th>\n",
       "      <td>1</td>\n",
       "      <td>1</td>\n",
       "      <td>0</td>\n",
       "      <td>0</td>\n",
       "      <td>0</td>\n",
       "      <td>0</td>\n",
       "      <td>0</td>\n",
       "      <td>1</td>\n",
       "      <td>0</td>\n",
       "      <td>2</td>\n",
       "      <td>38.0</td>\n",
       "      <td>71.2833</td>\n",
       "    </tr>\n",
       "    <tr>\n",
       "      <th>2</th>\n",
       "      <td>1</td>\n",
       "      <td>3</td>\n",
       "      <td>0</td>\n",
       "      <td>0</td>\n",
       "      <td>1</td>\n",
       "      <td>1</td>\n",
       "      <td>0</td>\n",
       "      <td>0</td>\n",
       "      <td>0</td>\n",
       "      <td>1</td>\n",
       "      <td>26.0</td>\n",
       "      <td>7.9250</td>\n",
       "    </tr>\n",
       "    <tr>\n",
       "      <th>3</th>\n",
       "      <td>1</td>\n",
       "      <td>1</td>\n",
       "      <td>0</td>\n",
       "      <td>0</td>\n",
       "      <td>1</td>\n",
       "      <td>0</td>\n",
       "      <td>0</td>\n",
       "      <td>1</td>\n",
       "      <td>0</td>\n",
       "      <td>2</td>\n",
       "      <td>35.0</td>\n",
       "      <td>53.1000</td>\n",
       "    </tr>\n",
       "    <tr>\n",
       "      <th>4</th>\n",
       "      <td>0</td>\n",
       "      <td>3</td>\n",
       "      <td>1</td>\n",
       "      <td>0</td>\n",
       "      <td>1</td>\n",
       "      <td>0</td>\n",
       "      <td>1</td>\n",
       "      <td>0</td>\n",
       "      <td>0</td>\n",
       "      <td>1</td>\n",
       "      <td>35.0</td>\n",
       "      <td>8.0500</td>\n",
       "    </tr>\n",
       "  </tbody>\n",
       "</table>\n",
       "</div>"
      ],
      "text/plain": [
       "   Survived  Pclass  male  Q  S  Miss  Mr  Mrs  Rare  Total_Family_member  \\\n",
       "0         0       3     1  0  1     0   1    0     0                    2   \n",
       "1         1       1     0  0  0     0   0    1     0                    2   \n",
       "2         1       3     0  0  1     1   0    0     0                    1   \n",
       "3         1       1     0  0  1     0   0    1     0                    2   \n",
       "4         0       3     1  0  1     0   1    0     0                    1   \n",
       "\n",
       "   Age_outlier_removed  outliers_removed_fare  \n",
       "0                 22.0                 7.2500  \n",
       "1                 38.0                71.2833  \n",
       "2                 26.0                 7.9250  \n",
       "3                 35.0                53.1000  \n",
       "4                 35.0                 8.0500  "
      ]
     },
     "execution_count": 24,
     "metadata": {},
     "output_type": "execute_result"
    }
   ],
   "source": [
    "train.head()"
   ]
  },
  {
   "cell_type": "code",
   "execution_count": 25,
   "id": "f319e57f",
   "metadata": {},
   "outputs": [],
   "source": [
    "### dividing into independent and dependent features only by test data"
   ]
  },
  {
   "cell_type": "code",
   "execution_count": 26,
   "id": "1992228d",
   "metadata": {},
   "outputs": [],
   "source": [
    "#X_train = train.iloc[:,1:]\n",
    "#y_train = train['Survived']\n",
    "#X_test = test\n",
    "X = train.iloc[:,1:]\n",
    "y = train['Survived']\n",
    "X_TEST = test\n",
    "from sklearn.model_selection import train_test_split\n",
    "X_train ,X_test ,y_train ,y_test = train_test_split(X,y,test_size=0.2,random_state=0)\n"
   ]
  },
  {
   "cell_type": "markdown",
   "id": "f345c1b3",
   "metadata": {},
   "source": [
    "## K-Fold Cross Validation"
   ]
  },
  {
   "cell_type": "raw",
   "id": "8ed6b26b",
   "metadata": {},
   "source": [
    "from sklearn.model_selection import KFold,cross_val_score\n",
    "\n",
    "def Cross_Validation(model ,X_train,y_train):\n",
    "    cv = KFold(n_splits=10, random_state=1, shuffle=True)\n",
    "    # evaluate model\n",
    "    scores = cross_val_score(model, X_train, y_train, scoring='accuracy', cv=cv, n_jobs=-1)\n",
    "    # report performance\n",
    "    print('Accuracy on Train: %.3f (%.3f)' % (np.mean(scores), np.std(scores)))\n"
   ]
  },
  {
   "cell_type": "raw",
   "id": "15221f87",
   "metadata": {},
   "source": []
  },
  {
   "cell_type": "code",
   "execution_count": 27,
   "id": "5d97cc2a",
   "metadata": {},
   "outputs": [],
   "source": [
    "from sklearn.metrics import accuracy_score,classification_report\n",
    "def training_model(estimater ,X_train,y_train,X_test,y_test):\n",
    "    model = estimater\n",
    "    model.fit(X_train,y_train)\n",
    "    score = model.score(X_train,y_train)\n",
    "    print(f\"\\nTrain Accurcy: {score}\")\n",
    "    y_pred = model.predict(X_test)\n",
    "    print(f\"\\nTest Accurcy: {accuracy_score(y_test,y_pred)}\")\n",
    "    print(f\"\\nClassification Report:\\n {classification_report(y_test,y_pred)}\")"
   ]
  },
  {
   "cell_type": "code",
   "execution_count": 28,
   "id": "58bb98b4",
   "metadata": {},
   "outputs": [
    {
     "name": "stdout",
     "output_type": "stream",
     "text": [
      "\n",
      "Train Accurcy: 0.824438202247191\n",
      "\n",
      "Test Accurcy: 0.7932960893854749\n",
      "\n",
      "Classification Report:\n",
      "               precision    recall  f1-score   support\n",
      "\n",
      "           0       0.84      0.82      0.83       110\n",
      "           1       0.72      0.75      0.74        69\n",
      "\n",
      "    accuracy                           0.79       179\n",
      "   macro avg       0.78      0.79      0.78       179\n",
      "weighted avg       0.80      0.79      0.79       179\n",
      "\n"
     ]
    }
   ],
   "source": [
    "from sklearn.linear_model import LogisticRegression\n",
    "training_model(LogisticRegression(),X_train,y_train,X_test,y_test)\n",
    "\n"
   ]
  },
  {
   "cell_type": "code",
   "execution_count": 29,
   "id": "93a1e3e1",
   "metadata": {},
   "outputs": [
    {
     "name": "stdout",
     "output_type": "stream",
     "text": [
      "\n",
      "Train Accurcy: 1.0\n",
      "\n",
      "Test Accurcy: 0.8044692737430168\n",
      "\n",
      "Classification Report:\n",
      "               precision    recall  f1-score   support\n",
      "\n",
      "           0       0.84      0.85      0.84       110\n",
      "           1       0.75      0.74      0.74        69\n",
      "\n",
      "    accuracy                           0.80       179\n",
      "   macro avg       0.79      0.79      0.79       179\n",
      "weighted avg       0.80      0.80      0.80       179\n",
      "\n"
     ]
    }
   ],
   "source": []
  },
  {
   "cell_type": "code",
   "execution_count": 30,
   "id": "44ceb229",
   "metadata": {},
   "outputs": [
    {
     "name": "stdout",
     "output_type": "stream",
     "text": [
      "\n",
      "Train Accurcy: 1.0\n",
      "\n",
      "Test Accurcy: 0.7318435754189944\n",
      "\n",
      "Classification Report:\n",
      "               precision    recall  f1-score   support\n",
      "\n",
      "           0       0.76      0.82      0.79       110\n",
      "           1       0.67      0.59      0.63        69\n",
      "\n",
      "    accuracy                           0.73       179\n",
      "   macro avg       0.72      0.71      0.71       179\n",
      "weighted avg       0.73      0.73      0.73       179\n",
      "\n"
     ]
    }
   ],
   "source": [
    "from sklearn.tree import DecisionTreeClassifier\n",
    "training_model(DecisionTreeClassifier(),X_train,y_train,X_test,y_test)"
   ]
  },
  {
   "cell_type": "code",
   "execution_count": 31,
   "id": "5745c674",
   "metadata": {},
   "outputs": [
    {
     "name": "stdout",
     "output_type": "stream",
     "text": [
      "\n",
      "Train Accurcy: 0.7654494382022472\n",
      "\n",
      "Test Accurcy: 0.7094972067039106\n",
      "\n",
      "Classification Report:\n",
      "               precision    recall  f1-score   support\n",
      "\n",
      "           0       0.73      0.83      0.78       110\n",
      "           1       0.65      0.52      0.58        69\n",
      "\n",
      "    accuracy                           0.71       179\n",
      "   macro avg       0.69      0.67      0.68       179\n",
      "weighted avg       0.70      0.71      0.70       179\n",
      "\n"
     ]
    }
   ],
   "source": [
    "from sklearn.neighbors import KNeighborsClassifier\n",
    "training_model(KNeighborsClassifier(),X_train,y_train,X_test,y_test)"
   ]
  },
  {
   "cell_type": "code",
   "execution_count": 32,
   "id": "532f9cf1",
   "metadata": {},
   "outputs": [
    {
     "name": "stdout",
     "output_type": "stream",
     "text": [
      "\n",
      "Train Accurcy: 0.9199438202247191\n",
      "\n",
      "Test Accurcy: 0.7486033519553073\n",
      "\n",
      "Classification Report:\n",
      "               precision    recall  f1-score   support\n",
      "\n",
      "           0       0.82      0.75      0.79       110\n",
      "           1       0.65      0.74      0.69        69\n",
      "\n",
      "    accuracy                           0.75       179\n",
      "   macro avg       0.74      0.75      0.74       179\n",
      "weighted avg       0.76      0.75      0.75       179\n",
      "\n"
     ]
    }
   ],
   "source": [
    "from sklearn.svm import SVC\n",
    "training_model(SVC(C=100, gamma=0.01),X_train,y_train,X_test,y_test)"
   ]
  },
  {
   "cell_type": "code",
   "execution_count": 33,
   "id": "a9f65cba",
   "metadata": {},
   "outputs": [
    {
     "name": "stdout",
     "output_type": "stream",
     "text": [
      "[08:54:41] WARNING: ..\\src\\learner.cc:1061: Starting in XGBoost 1.3.0, the default evaluation metric used with the objective 'binary:logistic' was changed from 'error' to 'logloss'. Explicitly set eval_metric if you'd like to restore the old behavior.\n",
      "\n",
      "Train Accurcy: 0.9873595505617978\n",
      "\n",
      "Test Accurcy: 0.7932960893854749\n",
      "\n",
      "Classification Report:\n",
      "               precision    recall  f1-score   support\n",
      "\n",
      "           0       0.85      0.81      0.83       110\n",
      "           1       0.72      0.77      0.74        69\n",
      "\n",
      "    accuracy                           0.79       179\n",
      "   macro avg       0.78      0.79      0.78       179\n",
      "weighted avg       0.80      0.79      0.79       179\n",
      "\n"
     ]
    }
   ],
   "source": [
    "from xgboost import XGBClassifier\n",
    "training_model(XGBClassifier(),X_train,y_train,X_test,y_test)"
   ]
  },
  {
   "cell_type": "code",
   "execution_count": 36,
   "id": "ad4ba6fd",
   "metadata": {},
   "outputs": [
    {
     "name": "stdout",
     "output_type": "stream",
     "text": [
      "[08:55:07] WARNING: ..\\src\\learner.cc:1061: Starting in XGBoost 1.3.0, the default evaluation metric used with the objective 'binary:logistic' was changed from 'error' to 'logloss'. Explicitly set eval_metric if you'd like to restore the old behavior.\n"
     ]
    }
   ],
   "source": [
    "xgb_clf = XGBClassifier()\n",
    "xgb_clf.fit(X,y)\n",
    "y_predicted = xgb_clf.predict(test)"
   ]
  },
  {
   "cell_type": "code",
   "execution_count": 40,
   "id": "6cc5f01a",
   "metadata": {},
   "outputs": [],
   "source": [
    "rf_clf = RandomForestClassifier()\n",
    "rf_clf.fit(X,y)\n",
    "y_predicted = rf_clf.predict(test)"
   ]
  },
  {
   "cell_type": "code",
   "execution_count": null,
   "id": "ddac83e3",
   "metadata": {},
   "outputs": [],
   "source": []
  },
  {
   "cell_type": "code",
   "execution_count": null,
   "id": "797af70d",
   "metadata": {},
   "outputs": [],
   "source": []
  },
  {
   "cell_type": "code",
   "execution_count": null,
   "id": "41c19c5d",
   "metadata": {},
   "outputs": [],
   "source": []
  },
  {
   "cell_type": "code",
   "execution_count": 37,
   "id": "7bca96e1",
   "metadata": {},
   "outputs": [],
   "source": [
    "## i select the RandomForest"
   ]
  },
  {
   "cell_type": "code",
   "execution_count": 41,
   "id": "781a3e4f",
   "metadata": {},
   "outputs": [],
   "source": [
    "pred = pd.DataFrame(y_predicted)\n",
    "sub_df = pd.read_csv('gender_submission.csv')\n",
    "datasets = pd.concat([sub_df['PassengerId'],pred],axis=1)\n",
    "datasets.columns=['PassengerId','Survived']\n",
    "datasets.to_csv('modified_Titanc5_GS_RAndom.csv',index=False)"
   ]
  },
  {
   "cell_type": "code",
   "execution_count": null,
   "id": "9814177b",
   "metadata": {},
   "outputs": [],
   "source": []
  },
  {
   "cell_type": "code",
   "execution_count": null,
   "id": "ca41ad7d",
   "metadata": {},
   "outputs": [],
   "source": []
  }
 ],
 "metadata": {
  "kernelspec": {
   "display_name": "Python 3",
   "language": "python",
   "name": "python3"
  },
  "language_info": {
   "codemirror_mode": {
    "name": "ipython",
    "version": 3
   },
   "file_extension": ".py",
   "mimetype": "text/x-python",
   "name": "python",
   "nbconvert_exporter": "python",
   "pygments_lexer": "ipython3",
   "version": "3.8.10"
  }
 },
 "nbformat": 4,
 "nbformat_minor": 5
}
