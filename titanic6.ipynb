{
 "cells": [
  {
   "cell_type": "code",
   "execution_count": 1,
   "id": "98901cff",
   "metadata": {},
   "outputs": [],
   "source": [
    "import pandas as pd\n",
    "import numpy as np\n",
    "import seaborn as sns\n",
    "import warnings\n",
    "warnings.filterwarnings('ignore')"
   ]
  },
  {
   "cell_type": "code",
   "execution_count": 2,
   "id": "91f62593",
   "metadata": {},
   "outputs": [
    {
     "data": {
      "text/html": [
       "<div>\n",
       "<style scoped>\n",
       "    .dataframe tbody tr th:only-of-type {\n",
       "        vertical-align: middle;\n",
       "    }\n",
       "\n",
       "    .dataframe tbody tr th {\n",
       "        vertical-align: top;\n",
       "    }\n",
       "\n",
       "    .dataframe thead th {\n",
       "        text-align: right;\n",
       "    }\n",
       "</style>\n",
       "<table border=\"1\" class=\"dataframe\">\n",
       "  <thead>\n",
       "    <tr style=\"text-align: right;\">\n",
       "      <th></th>\n",
       "      <th>PassengerId</th>\n",
       "      <th>Survived</th>\n",
       "      <th>Pclass</th>\n",
       "      <th>Name</th>\n",
       "      <th>Sex</th>\n",
       "      <th>Age</th>\n",
       "      <th>SibSp</th>\n",
       "      <th>Parch</th>\n",
       "      <th>Ticket</th>\n",
       "      <th>Fare</th>\n",
       "      <th>Cabin</th>\n",
       "      <th>Embarked</th>\n",
       "    </tr>\n",
       "  </thead>\n",
       "  <tbody>\n",
       "    <tr>\n",
       "      <th>0</th>\n",
       "      <td>1</td>\n",
       "      <td>0</td>\n",
       "      <td>3</td>\n",
       "      <td>Braund, Mr. Owen Harris</td>\n",
       "      <td>male</td>\n",
       "      <td>22.0</td>\n",
       "      <td>1</td>\n",
       "      <td>0</td>\n",
       "      <td>A/5 21171</td>\n",
       "      <td>7.2500</td>\n",
       "      <td>NaN</td>\n",
       "      <td>S</td>\n",
       "    </tr>\n",
       "    <tr>\n",
       "      <th>1</th>\n",
       "      <td>2</td>\n",
       "      <td>1</td>\n",
       "      <td>1</td>\n",
       "      <td>Cumings, Mrs. John Bradley (Florence Briggs Th...</td>\n",
       "      <td>female</td>\n",
       "      <td>38.0</td>\n",
       "      <td>1</td>\n",
       "      <td>0</td>\n",
       "      <td>PC 17599</td>\n",
       "      <td>71.2833</td>\n",
       "      <td>C85</td>\n",
       "      <td>C</td>\n",
       "    </tr>\n",
       "    <tr>\n",
       "      <th>2</th>\n",
       "      <td>3</td>\n",
       "      <td>1</td>\n",
       "      <td>3</td>\n",
       "      <td>Heikkinen, Miss. Laina</td>\n",
       "      <td>female</td>\n",
       "      <td>26.0</td>\n",
       "      <td>0</td>\n",
       "      <td>0</td>\n",
       "      <td>STON/O2. 3101282</td>\n",
       "      <td>7.9250</td>\n",
       "      <td>NaN</td>\n",
       "      <td>S</td>\n",
       "    </tr>\n",
       "    <tr>\n",
       "      <th>3</th>\n",
       "      <td>4</td>\n",
       "      <td>1</td>\n",
       "      <td>1</td>\n",
       "      <td>Futrelle, Mrs. Jacques Heath (Lily May Peel)</td>\n",
       "      <td>female</td>\n",
       "      <td>35.0</td>\n",
       "      <td>1</td>\n",
       "      <td>0</td>\n",
       "      <td>113803</td>\n",
       "      <td>53.1000</td>\n",
       "      <td>C123</td>\n",
       "      <td>S</td>\n",
       "    </tr>\n",
       "    <tr>\n",
       "      <th>4</th>\n",
       "      <td>5</td>\n",
       "      <td>0</td>\n",
       "      <td>3</td>\n",
       "      <td>Allen, Mr. William Henry</td>\n",
       "      <td>male</td>\n",
       "      <td>35.0</td>\n",
       "      <td>0</td>\n",
       "      <td>0</td>\n",
       "      <td>373450</td>\n",
       "      <td>8.0500</td>\n",
       "      <td>NaN</td>\n",
       "      <td>S</td>\n",
       "    </tr>\n",
       "  </tbody>\n",
       "</table>\n",
       "</div>"
      ],
      "text/plain": [
       "   PassengerId  Survived  Pclass  \\\n",
       "0            1         0       3   \n",
       "1            2         1       1   \n",
       "2            3         1       3   \n",
       "3            4         1       1   \n",
       "4            5         0       3   \n",
       "\n",
       "                                                Name     Sex   Age  SibSp  \\\n",
       "0                            Braund, Mr. Owen Harris    male  22.0      1   \n",
       "1  Cumings, Mrs. John Bradley (Florence Briggs Th...  female  38.0      1   \n",
       "2                             Heikkinen, Miss. Laina  female  26.0      0   \n",
       "3       Futrelle, Mrs. Jacques Heath (Lily May Peel)  female  35.0      1   \n",
       "4                           Allen, Mr. William Henry    male  35.0      0   \n",
       "\n",
       "   Parch            Ticket     Fare Cabin Embarked  \n",
       "0      0         A/5 21171   7.2500   NaN        S  \n",
       "1      0          PC 17599  71.2833   C85        C  \n",
       "2      0  STON/O2. 3101282   7.9250   NaN        S  \n",
       "3      0            113803  53.1000  C123        S  \n",
       "4      0            373450   8.0500   NaN        S  "
      ]
     },
     "execution_count": 2,
     "metadata": {},
     "output_type": "execute_result"
    }
   ],
   "source": [
    "train = pd.read_csv('train.csv')\n",
    "train.head()"
   ]
  },
  {
   "cell_type": "code",
   "execution_count": 3,
   "id": "def410a6",
   "metadata": {},
   "outputs": [
    {
     "data": {
      "text/plain": [
       "(891, 12)"
      ]
     },
     "execution_count": 3,
     "metadata": {},
     "output_type": "execute_result"
    }
   ],
   "source": [
    "train.shape"
   ]
  },
  {
   "cell_type": "code",
   "execution_count": 4,
   "id": "28eaf3fb",
   "metadata": {},
   "outputs": [
    {
     "data": {
      "text/plain": [
       "['Name', 'Sex', 'Ticket', 'Cabin', 'Embarked']"
      ]
     },
     "execution_count": 4,
     "metadata": {},
     "output_type": "execute_result"
    }
   ],
   "source": [
    "## categorical features\n",
    "categorical_features = [feature for feature in train.columns if train[feature].dtype == 'O']\n",
    "categorical_features"
   ]
  },
  {
   "cell_type": "code",
   "execution_count": 5,
   "id": "cf219e70",
   "metadata": {},
   "outputs": [
    {
     "data": {
      "text/plain": [
       "['Survived', 'Pclass', 'Age', 'SibSp', 'Parch', 'Fare']"
      ]
     },
     "execution_count": 5,
     "metadata": {},
     "output_type": "execute_result"
    }
   ],
   "source": [
    "## numrical fearure\n",
    "numerical_feature = [ feature for feature in train.columns if feature not in categorical_features + ['PassengerId'] ]\n",
    "numerical_feature"
   ]
  },
  {
   "cell_type": "code",
   "execution_count": 6,
   "id": "953f474c",
   "metadata": {},
   "outputs": [
    {
     "data": {
      "text/plain": [
       "['Survived', 'Pclass', 'SibSp', 'Parch']"
      ]
     },
     "execution_count": 6,
     "metadata": {},
     "output_type": "execute_result"
    }
   ],
   "source": [
    "## descrete features\n",
    "descrete_features = [ feature for feature in numerical_feature if len(train[feature].unique()) < 20 ]\n",
    "descrete_features"
   ]
  },
  {
   "cell_type": "code",
   "execution_count": 7,
   "id": "a13e7b87",
   "metadata": {},
   "outputs": [
    {
     "data": {
      "text/plain": [
       "['Age', 'Fare']"
      ]
     },
     "execution_count": 7,
     "metadata": {},
     "output_type": "execute_result"
    }
   ],
   "source": [
    "## continous features\n",
    "continous_features = [ feature for feature in numerical_feature if feature not in descrete_features]\n",
    "continous_features"
   ]
  },
  {
   "cell_type": "code",
   "execution_count": 8,
   "id": "0fb47400",
   "metadata": {},
   "outputs": [],
   "source": [
    "## filling missing value of Age\n",
    "train['Age'] = train.Age.fillna(train.Age.median())\n",
    "\n",
    "## filling missing value of Embarked\n",
    "train['Embarked'] = train.Embarked.fillna(train.Embarked.mode()[0])\n",
    "\n",
    "## filling missing value of Cabin\n",
    "train['Cabin_nan'] = np.where(train.Cabin.isnull(),1,0)\n",
    "train['Cabin'] = train.Cabin.fillna('Missing')\n",
    "train['Cabin'] = train.Cabin.astype(str).str[0] \n"
   ]
  },
  {
   "cell_type": "code",
   "execution_count": 9,
   "id": "ea2d8af0",
   "metadata": {},
   "outputs": [],
   "source": [
    "# converting the Name feature to Rare,Miss,Mrs\n",
    "train['title'] = train.Name.str.extract(' ([A-Za-z]+)\\.',expand=False)\n",
    "train['title'] = train['title'].replace(['Lady', 'Countess','Capt', 'Col','Don', 'Dr', 'Major', 'Rev', 'Sir', 'Jonkheer', 'Dona'], 'Rare')\n",
    "train['title'] = train['title'].replace('Mlle', 'Miss')\n",
    "train['title'] = train['title'].replace('Ms', 'Miss')\n",
    "train['title'] = train['title'].replace('Mme', 'Mrs')\n",
    "\n",
    "## categorical to numerical\n",
    "train['Sex'] = train.Sex.map({'female':0,'male':1})\n",
    "\n",
    "## title dummies\n",
    "title_dumiess = pd.get_dummies(train.title,drop_first=True)\n",
    "train = pd.concat([train ,title_dumiess],axis=1)\n",
    "\n",
    "## Embarked dummies\n",
    "Embarked_dummies = pd.get_dummies(train.Embarked,drop_first=True)\n",
    "train = pd.concat([train,Embarked_dummies],axis=1)\n",
    "\n",
    "## Cabin dummies\n",
    "Cabin_dummies = pd.get_dummies(train.Cabin ,drop_first=True)\n",
    "train = pd.concat([train,Cabin_dummies],axis=1)\n",
    "\n",
    "# dropping the features\n",
    "train = train.drop(['PassengerId','Name','Ticket','title','Embarked','Cabin'],axis=1)"
   ]
  },
  {
   "cell_type": "code",
   "execution_count": 10,
   "id": "92dbd6c3",
   "metadata": {},
   "outputs": [],
   "source": [
    "age_mean = np.mean(train.Age)\n",
    "age_std = np.std(train.Age)\n",
    "\n",
    "lower = age_mean - 3*age_std\n",
    "upper = age_mean + 3*age_std\n",
    "\n",
    "Age_outlier_removed = [x for x in train.Age if x >= lower and x <= upper ]\n",
    "\n",
    "for _ in range(0,7):\n",
    "    Age_outlier_removed.append(train.Age.median())\n",
    "    \n",
    "train['Age'] = Age_outlier_removed"
   ]
  },
  {
   "cell_type": "code",
   "execution_count": 11,
   "id": "e3bff28d",
   "metadata": {},
   "outputs": [],
   "source": [
    "train['Fare'] = np.log1p(train.Fare)\n",
    "\n",
    "fare_mean = np.mean(train.Fare)\n",
    "fare_std = np.std(train.Fare)\n",
    "\n",
    "lower = fare_mean - 3*fare_std\n",
    "upper = fare_mean + 3*fare_std\n",
    "\n",
    "Fare_outlier_removed = [x for x in train.Fare if x >= lower and x <= upper ]\n",
    "\n",
    "for _ in range(0,18):\n",
    "    Fare_outlier_removed.append(train.Fare.mean())\n",
    "    \n",
    "train['Fare'] = Fare_outlier_removed"
   ]
  },
  {
   "cell_type": "code",
   "execution_count": 12,
   "id": "99f7c8e9",
   "metadata": {},
   "outputs": [],
   "source": [
    "train.to_csv('titanic6_Train.csv')"
   ]
  },
  {
   "cell_type": "code",
   "execution_count": 13,
   "id": "b6a54ac0",
   "metadata": {},
   "outputs": [
    {
     "data": {
      "text/html": [
       "<div>\n",
       "<style scoped>\n",
       "    .dataframe tbody tr th:only-of-type {\n",
       "        vertical-align: middle;\n",
       "    }\n",
       "\n",
       "    .dataframe tbody tr th {\n",
       "        vertical-align: top;\n",
       "    }\n",
       "\n",
       "    .dataframe thead th {\n",
       "        text-align: right;\n",
       "    }\n",
       "</style>\n",
       "<table border=\"1\" class=\"dataframe\">\n",
       "  <thead>\n",
       "    <tr style=\"text-align: right;\">\n",
       "      <th></th>\n",
       "      <th>Survived</th>\n",
       "      <th>Pclass</th>\n",
       "      <th>Sex</th>\n",
       "      <th>Age</th>\n",
       "      <th>SibSp</th>\n",
       "      <th>Parch</th>\n",
       "      <th>Fare</th>\n",
       "      <th>Cabin_nan</th>\n",
       "      <th>Miss</th>\n",
       "      <th>Mr</th>\n",
       "      <th>...</th>\n",
       "      <th>Q</th>\n",
       "      <th>S</th>\n",
       "      <th>B</th>\n",
       "      <th>C</th>\n",
       "      <th>D</th>\n",
       "      <th>E</th>\n",
       "      <th>F</th>\n",
       "      <th>G</th>\n",
       "      <th>M</th>\n",
       "      <th>T</th>\n",
       "    </tr>\n",
       "  </thead>\n",
       "  <tbody>\n",
       "    <tr>\n",
       "      <th>0</th>\n",
       "      <td>0</td>\n",
       "      <td>3</td>\n",
       "      <td>1</td>\n",
       "      <td>22.0</td>\n",
       "      <td>1</td>\n",
       "      <td>0</td>\n",
       "      <td>2.110213</td>\n",
       "      <td>1</td>\n",
       "      <td>0</td>\n",
       "      <td>1</td>\n",
       "      <td>...</td>\n",
       "      <td>0</td>\n",
       "      <td>1</td>\n",
       "      <td>0</td>\n",
       "      <td>0</td>\n",
       "      <td>0</td>\n",
       "      <td>0</td>\n",
       "      <td>0</td>\n",
       "      <td>0</td>\n",
       "      <td>1</td>\n",
       "      <td>0</td>\n",
       "    </tr>\n",
       "    <tr>\n",
       "      <th>1</th>\n",
       "      <td>1</td>\n",
       "      <td>1</td>\n",
       "      <td>0</td>\n",
       "      <td>38.0</td>\n",
       "      <td>1</td>\n",
       "      <td>0</td>\n",
       "      <td>4.280593</td>\n",
       "      <td>0</td>\n",
       "      <td>0</td>\n",
       "      <td>0</td>\n",
       "      <td>...</td>\n",
       "      <td>0</td>\n",
       "      <td>0</td>\n",
       "      <td>0</td>\n",
       "      <td>1</td>\n",
       "      <td>0</td>\n",
       "      <td>0</td>\n",
       "      <td>0</td>\n",
       "      <td>0</td>\n",
       "      <td>0</td>\n",
       "      <td>0</td>\n",
       "    </tr>\n",
       "    <tr>\n",
       "      <th>2</th>\n",
       "      <td>1</td>\n",
       "      <td>3</td>\n",
       "      <td>0</td>\n",
       "      <td>26.0</td>\n",
       "      <td>0</td>\n",
       "      <td>0</td>\n",
       "      <td>2.188856</td>\n",
       "      <td>1</td>\n",
       "      <td>1</td>\n",
       "      <td>0</td>\n",
       "      <td>...</td>\n",
       "      <td>0</td>\n",
       "      <td>1</td>\n",
       "      <td>0</td>\n",
       "      <td>0</td>\n",
       "      <td>0</td>\n",
       "      <td>0</td>\n",
       "      <td>0</td>\n",
       "      <td>0</td>\n",
       "      <td>1</td>\n",
       "      <td>0</td>\n",
       "    </tr>\n",
       "    <tr>\n",
       "      <th>3</th>\n",
       "      <td>1</td>\n",
       "      <td>1</td>\n",
       "      <td>0</td>\n",
       "      <td>35.0</td>\n",
       "      <td>1</td>\n",
       "      <td>0</td>\n",
       "      <td>3.990834</td>\n",
       "      <td>0</td>\n",
       "      <td>0</td>\n",
       "      <td>0</td>\n",
       "      <td>...</td>\n",
       "      <td>0</td>\n",
       "      <td>1</td>\n",
       "      <td>0</td>\n",
       "      <td>1</td>\n",
       "      <td>0</td>\n",
       "      <td>0</td>\n",
       "      <td>0</td>\n",
       "      <td>0</td>\n",
       "      <td>0</td>\n",
       "      <td>0</td>\n",
       "    </tr>\n",
       "    <tr>\n",
       "      <th>4</th>\n",
       "      <td>0</td>\n",
       "      <td>3</td>\n",
       "      <td>1</td>\n",
       "      <td>35.0</td>\n",
       "      <td>0</td>\n",
       "      <td>0</td>\n",
       "      <td>2.202765</td>\n",
       "      <td>1</td>\n",
       "      <td>0</td>\n",
       "      <td>1</td>\n",
       "      <td>...</td>\n",
       "      <td>0</td>\n",
       "      <td>1</td>\n",
       "      <td>0</td>\n",
       "      <td>0</td>\n",
       "      <td>0</td>\n",
       "      <td>0</td>\n",
       "      <td>0</td>\n",
       "      <td>0</td>\n",
       "      <td>1</td>\n",
       "      <td>0</td>\n",
       "    </tr>\n",
       "  </tbody>\n",
       "</table>\n",
       "<p>5 rows × 22 columns</p>\n",
       "</div>"
      ],
      "text/plain": [
       "   Survived  Pclass  Sex   Age  SibSp  Parch      Fare  Cabin_nan  Miss  Mr  \\\n",
       "0         0       3    1  22.0      1      0  2.110213          1     0   1   \n",
       "1         1       1    0  38.0      1      0  4.280593          0     0   0   \n",
       "2         1       3    0  26.0      0      0  2.188856          1     1   0   \n",
       "3         1       1    0  35.0      1      0  3.990834          0     0   0   \n",
       "4         0       3    1  35.0      0      0  2.202765          1     0   1   \n",
       "\n",
       "   ...  Q  S  B  C  D  E  F  G  M  T  \n",
       "0  ...  0  1  0  0  0  0  0  0  1  0  \n",
       "1  ...  0  0  0  1  0  0  0  0  0  0  \n",
       "2  ...  0  1  0  0  0  0  0  0  1  0  \n",
       "3  ...  0  1  0  1  0  0  0  0  0  0  \n",
       "4  ...  0  1  0  0  0  0  0  0  1  0  \n",
       "\n",
       "[5 rows x 22 columns]"
      ]
     },
     "execution_count": 13,
     "metadata": {},
     "output_type": "execute_result"
    }
   ],
   "source": [
    "train.head()"
   ]
  },
  {
   "cell_type": "markdown",
   "id": "0a6a016c",
   "metadata": {},
   "source": [
    "# For Test data"
   ]
  },
  {
   "cell_type": "code",
   "execution_count": 14,
   "id": "7d2bb9dd",
   "metadata": {},
   "outputs": [],
   "source": [
    "test = pd.read_csv('test.csv')"
   ]
  },
  {
   "cell_type": "code",
   "execution_count": 15,
   "id": "35b3d133",
   "metadata": {},
   "outputs": [],
   "source": [
    "## filling missing value of Age\n",
    "test['Age'] = test.Age.fillna(test.Age.median())\n",
    "\n",
    "## fare\n",
    "test['Fare'] = test.Fare.fillna(test.Fare.mean())\n",
    "\n",
    "## filling missing value of Cabin\n",
    "test['Cabin_nan'] = np.where(test.Cabin.isnull(),1,0)\n",
    "test['Cabin'] = test.Cabin.fillna('Missing')\n",
    "test['Cabin'] = test.Cabin.astype(str).str[0]"
   ]
  },
  {
   "cell_type": "code",
   "execution_count": 16,
   "id": "0062dfd5",
   "metadata": {},
   "outputs": [],
   "source": [
    "# converting the Name feature to Rare,Miss,Mrs\n",
    "test['title'] = test.Name.str.extract(' ([A-Za-z]+)\\.',expand=False)\n",
    "test['title'] = test['title'].replace(['Lady', 'Countess','Capt', 'Col','Don', 'Dr', 'Major', 'Rev', 'Sir', 'Jonkheer', 'Dona'], 'Rare')\n",
    "test['title'] = test['title'].replace('Mlle', 'Miss')\n",
    "test['title'] = test['title'].replace('Ms', 'Miss')\n",
    "test['title'] = test['title'].replace('Mme', 'Mrs')\n",
    "\n",
    "## categorical to numerical\n",
    "test['Sex'] = test.Sex.map({'female':0,'male':1})\n",
    "\n",
    "## title dummies\n",
    "title_dumiess = pd.get_dummies(test.title,drop_first=True)\n",
    "test = pd.concat([test ,title_dumiess],axis=1)\n",
    "\n",
    "## Embarked dummies\n",
    "Embarked_dummies = pd.get_dummies(test.Embarked,drop_first=True)\n",
    "test = pd.concat([test,Embarked_dummies],axis=1)\n",
    "\n",
    "## Cabin dummies\n",
    "Cabin_dummies = pd.get_dummies(test.Cabin ,drop_first=True)\n",
    "test = pd.concat([test,Cabin_dummies],axis=1)\n",
    "\n",
    "# dropping the features\n",
    "test = test.drop(['PassengerId','Name','Ticket','title','Embarked','Cabin'],axis=1)"
   ]
  },
  {
   "cell_type": "code",
   "execution_count": 17,
   "id": "eac82840",
   "metadata": {},
   "outputs": [],
   "source": [
    "age_mean = np.mean(test.Age)\n",
    "age_std = np.std(test.Age)\n",
    "\n",
    "lower = age_mean - 3*age_std\n",
    "upper = age_mean + 3*age_std\n",
    "\n",
    "Age_outlier_removed = [x for x in test.Age if x >= lower and x <= upper ]\n",
    "\n",
    "Age_outlier_removed.append(test.Age.median())\n",
    "    \n",
    "test['Age'] = Age_outlier_removed"
   ]
  },
  {
   "cell_type": "code",
   "execution_count": 22,
   "id": "efe0d0ab",
   "metadata": {},
   "outputs": [],
   "source": [
    "test['Fare'] = np.log1p(test.Fare)\n",
    "\n",
    "fare_mean = np.mean(test.Fare)\n",
    "fare_std = np.std(test.Fare)\n",
    "\n",
    "lower = fare_mean - 3*fare_std\n",
    "upper = fare_mean + 3*fare_std\n",
    "\n",
    "Fare_outlier_removed = [x for x in test.Fare if x >= lower and x <= upper ]\n",
    "\n",
    "\n",
    "Fare_outlier_removed.append(test.Fare.mean())\n",
    "Fare_outlier_removed.append(test.Fare.mean())\n",
    "    \n",
    "test['Fare'] = Fare_outlier_removed"
   ]
  },
  {
   "cell_type": "code",
   "execution_count": 23,
   "id": "6efa9280",
   "metadata": {},
   "outputs": [],
   "source": [
    "test.to_csv('titanic6_Test.csv')"
   ]
  },
  {
   "cell_type": "code",
   "execution_count": 24,
   "id": "7ffe6330",
   "metadata": {},
   "outputs": [
    {
     "data": {
      "text/html": [
       "<div>\n",
       "<style scoped>\n",
       "    .dataframe tbody tr th:only-of-type {\n",
       "        vertical-align: middle;\n",
       "    }\n",
       "\n",
       "    .dataframe tbody tr th {\n",
       "        vertical-align: top;\n",
       "    }\n",
       "\n",
       "    .dataframe thead th {\n",
       "        text-align: right;\n",
       "    }\n",
       "</style>\n",
       "<table border=\"1\" class=\"dataframe\">\n",
       "  <thead>\n",
       "    <tr style=\"text-align: right;\">\n",
       "      <th></th>\n",
       "      <th>Pclass</th>\n",
       "      <th>Sex</th>\n",
       "      <th>Age</th>\n",
       "      <th>SibSp</th>\n",
       "      <th>Parch</th>\n",
       "      <th>Fare</th>\n",
       "      <th>Cabin_nan</th>\n",
       "      <th>Miss</th>\n",
       "      <th>Mr</th>\n",
       "      <th>Mrs</th>\n",
       "      <th>Rare</th>\n",
       "      <th>Q</th>\n",
       "      <th>S</th>\n",
       "      <th>B</th>\n",
       "      <th>C</th>\n",
       "      <th>D</th>\n",
       "      <th>E</th>\n",
       "      <th>F</th>\n",
       "      <th>G</th>\n",
       "      <th>M</th>\n",
       "    </tr>\n",
       "  </thead>\n",
       "  <tbody>\n",
       "    <tr>\n",
       "      <th>0</th>\n",
       "      <td>3</td>\n",
       "      <td>1</td>\n",
       "      <td>34.5</td>\n",
       "      <td>0</td>\n",
       "      <td>0</td>\n",
       "      <td>0.768381</td>\n",
       "      <td>1</td>\n",
       "      <td>0</td>\n",
       "      <td>1</td>\n",
       "      <td>0</td>\n",
       "      <td>0</td>\n",
       "      <td>1</td>\n",
       "      <td>0</td>\n",
       "      <td>0</td>\n",
       "      <td>0</td>\n",
       "      <td>0</td>\n",
       "      <td>0</td>\n",
       "      <td>0</td>\n",
       "      <td>0</td>\n",
       "      <td>1</td>\n",
       "    </tr>\n",
       "    <tr>\n",
       "      <th>1</th>\n",
       "      <td>3</td>\n",
       "      <td>0</td>\n",
       "      <td>47.0</td>\n",
       "      <td>1</td>\n",
       "      <td>0</td>\n",
       "      <td>0.753653</td>\n",
       "      <td>1</td>\n",
       "      <td>0</td>\n",
       "      <td>0</td>\n",
       "      <td>1</td>\n",
       "      <td>0</td>\n",
       "      <td>0</td>\n",
       "      <td>1</td>\n",
       "      <td>0</td>\n",
       "      <td>0</td>\n",
       "      <td>0</td>\n",
       "      <td>0</td>\n",
       "      <td>0</td>\n",
       "      <td>0</td>\n",
       "      <td>1</td>\n",
       "    </tr>\n",
       "    <tr>\n",
       "      <th>2</th>\n",
       "      <td>2</td>\n",
       "      <td>1</td>\n",
       "      <td>62.0</td>\n",
       "      <td>0</td>\n",
       "      <td>0</td>\n",
       "      <td>0.795089</td>\n",
       "      <td>1</td>\n",
       "      <td>0</td>\n",
       "      <td>1</td>\n",
       "      <td>0</td>\n",
       "      <td>0</td>\n",
       "      <td>1</td>\n",
       "      <td>0</td>\n",
       "      <td>0</td>\n",
       "      <td>0</td>\n",
       "      <td>0</td>\n",
       "      <td>0</td>\n",
       "      <td>0</td>\n",
       "      <td>0</td>\n",
       "      <td>1</td>\n",
       "    </tr>\n",
       "    <tr>\n",
       "      <th>3</th>\n",
       "      <td>3</td>\n",
       "      <td>1</td>\n",
       "      <td>27.0</td>\n",
       "      <td>0</td>\n",
       "      <td>0</td>\n",
       "      <td>0.781275</td>\n",
       "      <td>1</td>\n",
       "      <td>0</td>\n",
       "      <td>1</td>\n",
       "      <td>0</td>\n",
       "      <td>0</td>\n",
       "      <td>0</td>\n",
       "      <td>1</td>\n",
       "      <td>0</td>\n",
       "      <td>0</td>\n",
       "      <td>0</td>\n",
       "      <td>0</td>\n",
       "      <td>0</td>\n",
       "      <td>0</td>\n",
       "      <td>1</td>\n",
       "    </tr>\n",
       "    <tr>\n",
       "      <th>4</th>\n",
       "      <td>3</td>\n",
       "      <td>0</td>\n",
       "      <td>22.0</td>\n",
       "      <td>1</td>\n",
       "      <td>1</td>\n",
       "      <td>0.822976</td>\n",
       "      <td>1</td>\n",
       "      <td>0</td>\n",
       "      <td>0</td>\n",
       "      <td>1</td>\n",
       "      <td>0</td>\n",
       "      <td>0</td>\n",
       "      <td>1</td>\n",
       "      <td>0</td>\n",
       "      <td>0</td>\n",
       "      <td>0</td>\n",
       "      <td>0</td>\n",
       "      <td>0</td>\n",
       "      <td>0</td>\n",
       "      <td>1</td>\n",
       "    </tr>\n",
       "  </tbody>\n",
       "</table>\n",
       "</div>"
      ],
      "text/plain": [
       "   Pclass  Sex   Age  SibSp  Parch      Fare  Cabin_nan  Miss  Mr  Mrs  Rare  \\\n",
       "0       3    1  34.5      0      0  0.768381          1     0   1    0     0   \n",
       "1       3    0  47.0      1      0  0.753653          1     0   0    1     0   \n",
       "2       2    1  62.0      0      0  0.795089          1     0   1    0     0   \n",
       "3       3    1  27.0      0      0  0.781275          1     0   1    0     0   \n",
       "4       3    0  22.0      1      1  0.822976          1     0   0    1     0   \n",
       "\n",
       "   Q  S  B  C  D  E  F  G  M  \n",
       "0  1  0  0  0  0  0  0  0  1  \n",
       "1  0  1  0  0  0  0  0  0  1  \n",
       "2  1  0  0  0  0  0  0  0  1  \n",
       "3  0  1  0  0  0  0  0  0  1  \n",
       "4  0  1  0  0  0  0  0  0  1  "
      ]
     },
     "execution_count": 24,
     "metadata": {},
     "output_type": "execute_result"
    }
   ],
   "source": [
    "test.head()"
   ]
  },
  {
   "cell_type": "markdown",
   "id": "8abfbb20",
   "metadata": {},
   "source": [
    "## Building the Ml model"
   ]
  },
  {
   "cell_type": "code",
   "execution_count": 25,
   "id": "2dd7330e",
   "metadata": {},
   "outputs": [],
   "source": [
    "X = train.drop(['Survived','T'],axis=1)\n",
    "y = train.Survived\n",
    "\n",
    "from sklearn.model_selection import train_test_split\n",
    "X_train,X_test,y_train,y_test = train_test_split(X,y,test_size=0.2)"
   ]
  },
  {
   "cell_type": "code",
   "execution_count": 26,
   "id": "b32a9d9c",
   "metadata": {},
   "outputs": [],
   "source": [
    "from sklearn.metrics import accuracy_score,classification_report\n",
    "def training_model(estimater ,X_train,y_train,X_test,y_test):\n",
    "    model = estimater\n",
    "    model.fit(X_train,y_train)\n",
    "    score = model.score(X_train,y_train)\n",
    "    print(f\"\\nTrain Accurcy: {score}\")\n",
    "    y_pred = model.predict(X_test)\n",
    "    print(f\"\\nTest Accurcy: {accuracy_score(y_test,y_pred)}\")\n",
    "    print(f\"\\nClassification Report:\\n {classification_report(y_test,y_pred)}\")"
   ]
  },
  {
   "cell_type": "code",
   "execution_count": 27,
   "id": "b8d222e7",
   "metadata": {},
   "outputs": [
    {
     "name": "stdout",
     "output_type": "stream",
     "text": [
      "\n",
      "Train Accurcy: 0.800561797752809\n",
      "\n",
      "Test Accurcy: 0.8156424581005587\n",
      "\n",
      "Classification Report:\n",
      "               precision    recall  f1-score   support\n",
      "\n",
      "           0       0.84      0.87      0.85       111\n",
      "           1       0.78      0.72      0.75        68\n",
      "\n",
      "    accuracy                           0.82       179\n",
      "   macro avg       0.81      0.80      0.80       179\n",
      "weighted avg       0.81      0.82      0.81       179\n",
      "\n"
     ]
    }
   ],
   "source": [
    "from sklearn.linear_model import LogisticRegression\n",
    "training_model(LogisticRegression(C=4, penalty='l1', solver='saga'),X_train,y_train,X_test,y_test)"
   ]
  },
  {
   "cell_type": "code",
   "execution_count": 28,
   "id": "9548632d",
   "metadata": {},
   "outputs": [
    {
     "name": "stdout",
     "output_type": "stream",
     "text": [
      "\n",
      "Train Accurcy: 0.8567415730337079\n",
      "\n",
      "Test Accurcy: 0.8268156424581006\n",
      "\n",
      "Classification Report:\n",
      "               precision    recall  f1-score   support\n",
      "\n",
      "           0       0.86      0.86      0.86       111\n",
      "           1       0.78      0.76      0.77        68\n",
      "\n",
      "    accuracy                           0.83       179\n",
      "   macro avg       0.82      0.81      0.82       179\n",
      "weighted avg       0.83      0.83      0.83       179\n",
      "\n"
     ]
    }
   ],
   "source": [
    "from sklearn.ensemble import RandomForestClassifier\n",
    "training_model(RandomForestClassifier(max_depth=5, max_features=6, n_estimators=80),X_train,y_train,X_test,y_test)"
   ]
  },
  {
   "cell_type": "code",
   "execution_count": 29,
   "id": "b98cb38b",
   "metadata": {},
   "outputs": [
    {
     "name": "stdout",
     "output_type": "stream",
     "text": [
      "\n",
      "Train Accurcy: 0.8623595505617978\n",
      "\n",
      "Test Accurcy: 0.8100558659217877\n",
      "\n",
      "Classification Report:\n",
      "               precision    recall  f1-score   support\n",
      "\n",
      "           0       0.81      0.90      0.85       111\n",
      "           1       0.80      0.66      0.73        68\n",
      "\n",
      "    accuracy                           0.81       179\n",
      "   macro avg       0.81      0.78      0.79       179\n",
      "weighted avg       0.81      0.81      0.81       179\n",
      "\n"
     ]
    }
   ],
   "source": [
    "from sklearn.tree import DecisionTreeClassifier\n",
    "training_model(DecisionTreeClassifier(criterion='gini',max_depth=7, min_samples_leaf=7),X_train,y_train,X_test,y_test)"
   ]
  },
  {
   "cell_type": "code",
   "execution_count": 30,
   "id": "15698aa3",
   "metadata": {},
   "outputs": [
    {
     "name": "stdout",
     "output_type": "stream",
     "text": [
      "\n",
      "Train Accurcy: 0.8679775280898876\n",
      "\n",
      "Test Accurcy: 0.8156424581005587\n",
      "\n",
      "Classification Report:\n",
      "               precision    recall  f1-score   support\n",
      "\n",
      "           0       0.85      0.85      0.85       111\n",
      "           1       0.75      0.76      0.76        68\n",
      "\n",
      "    accuracy                           0.82       179\n",
      "   macro avg       0.80      0.81      0.80       179\n",
      "weighted avg       0.82      0.82      0.82       179\n",
      "\n"
     ]
    }
   ],
   "source": [
    "from sklearn.svm import SVC\n",
    "training_model(SVC(C=70, gamma=0.01),X_train,y_train,X_test,y_test)"
   ]
  },
  {
   "cell_type": "code",
   "execution_count": 31,
   "id": "828418c8",
   "metadata": {},
   "outputs": [
    {
     "name": "stdout",
     "output_type": "stream",
     "text": [
      "[14:14:24] WARNING: ..\\src\\learner.cc:1061: Starting in XGBoost 1.3.0, the default evaluation metric used with the objective 'binary:logistic' was changed from 'error' to 'logloss'. Explicitly set eval_metric if you'd like to restore the old behavior.\n",
      "\n",
      "Train Accurcy: 0.8455056179775281\n",
      "\n",
      "Test Accurcy: 0.8212290502793296\n",
      "\n",
      "Classification Report:\n",
      "               precision    recall  f1-score   support\n",
      "\n",
      "           0       0.83      0.89      0.86       111\n",
      "           1       0.80      0.71      0.75        68\n",
      "\n",
      "    accuracy                           0.82       179\n",
      "   macro avg       0.82      0.80      0.81       179\n",
      "weighted avg       0.82      0.82      0.82       179\n",
      "\n"
     ]
    }
   ],
   "source": [
    "from xgboost import XGBClassifier\n",
    "training_model(XGBClassifier(n_estimators=180,gamma=5,max_depth=7,),X_train,y_train,X_test,y_test)"
   ]
  },
  {
   "cell_type": "code",
   "execution_count": 39,
   "id": "9f40882d",
   "metadata": {},
   "outputs": [
    {
     "name": "stdout",
     "output_type": "stream",
     "text": [
      "[14:18:46] WARNING: ..\\src\\learner.cc:1061: Starting in XGBoost 1.3.0, the default evaluation metric used with the objective 'binary:logistic' was changed from 'error' to 'logloss'. Explicitly set eval_metric if you'd like to restore the old behavior.\n"
     ]
    }
   ],
   "source": [
    "xgb_clf = XGBClassifier(n_estimators=180,gamma=5,max_depth=7)\n",
    "xgb_clf.fit(X,y)\n",
    "y_predicted = xgb_clf.predict(test)"
   ]
  },
  {
   "cell_type": "code",
   "execution_count": 37,
   "id": "98a60843",
   "metadata": {},
   "outputs": [],
   "source": [
    "rf_clf = RandomForestClassifier(max_depth=5, max_features=6, n_estimators=80)\n",
    "rf_clf.fit(X,y)\n",
    "y_predicted = rf_clf.predict(test)"
   ]
  },
  {
   "cell_type": "code",
   "execution_count": 40,
   "id": "721c7625",
   "metadata": {},
   "outputs": [],
   "source": [
    "pred = pd.DataFrame(y_predicted)\n",
    "sub_df = pd.read_csv('gender_submission.csv')\n",
    "datasets = pd.concat([sub_df['PassengerId'],pred],axis=1)\n",
    "datasets.columns=['PassengerId','Survived']\n",
    "datasets.to_csv('titanic6_xgb.csv',index=False)"
   ]
  },
  {
   "cell_type": "code",
   "execution_count": null,
   "id": "02a50404",
   "metadata": {},
   "outputs": [],
   "source": []
  },
  {
   "cell_type": "code",
   "execution_count": null,
   "id": "ec9d090e",
   "metadata": {},
   "outputs": [],
   "source": []
  },
  {
   "cell_type": "code",
   "execution_count": null,
   "id": "56b14590",
   "metadata": {},
   "outputs": [],
   "source": []
  },
  {
   "cell_type": "code",
   "execution_count": null,
   "id": "ceea8512",
   "metadata": {},
   "outputs": [],
   "source": []
  }
 ],
 "metadata": {
  "kernelspec": {
   "display_name": "Python 3",
   "language": "python",
   "name": "python3"
  },
  "language_info": {
   "codemirror_mode": {
    "name": "ipython",
    "version": 3
   },
   "file_extension": ".py",
   "mimetype": "text/x-python",
   "name": "python",
   "nbconvert_exporter": "python",
   "pygments_lexer": "ipython3",
   "version": "3.8.10"
  }
 },
 "nbformat": 4,
 "nbformat_minor": 5
}
