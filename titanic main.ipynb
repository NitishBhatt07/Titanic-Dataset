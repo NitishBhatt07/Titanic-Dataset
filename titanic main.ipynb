{
 "cells": [
  {
   "cell_type": "code",
   "execution_count": 1,
   "id": "e3e11702",
   "metadata": {},
   "outputs": [],
   "source": [
    "import pandas as pd\n",
    "import seaborn as sns\n",
    "import warnings\n",
    "import numpy as np\n",
    "warnings.filterwarnings('ignore')"
   ]
  },
  {
   "cell_type": "code",
   "execution_count": 2,
   "id": "ac540ba3",
   "metadata": {},
   "outputs": [],
   "source": [
    "df_train = pd.read_csv('train.csv')"
   ]
  },
  {
   "cell_type": "code",
   "execution_count": 3,
   "id": "053eb100",
   "metadata": {},
   "outputs": [],
   "source": [
    "df_train = df_train.drop(['PassengerId','Name','Ticket'],axis=1)"
   ]
  },
  {
   "cell_type": "code",
   "execution_count": 4,
   "id": "a23ff37c",
   "metadata": {},
   "outputs": [
    {
     "data": {
      "text/html": [
       "<div>\n",
       "<style scoped>\n",
       "    .dataframe tbody tr th:only-of-type {\n",
       "        vertical-align: middle;\n",
       "    }\n",
       "\n",
       "    .dataframe tbody tr th {\n",
       "        vertical-align: top;\n",
       "    }\n",
       "\n",
       "    .dataframe thead th {\n",
       "        text-align: right;\n",
       "    }\n",
       "</style>\n",
       "<table border=\"1\" class=\"dataframe\">\n",
       "  <thead>\n",
       "    <tr style=\"text-align: right;\">\n",
       "      <th></th>\n",
       "      <th>Survived</th>\n",
       "      <th>Pclass</th>\n",
       "      <th>Sex</th>\n",
       "      <th>Age</th>\n",
       "      <th>SibSp</th>\n",
       "      <th>Parch</th>\n",
       "      <th>Fare</th>\n",
       "      <th>Cabin</th>\n",
       "      <th>Embarked</th>\n",
       "    </tr>\n",
       "  </thead>\n",
       "  <tbody>\n",
       "    <tr>\n",
       "      <th>0</th>\n",
       "      <td>0</td>\n",
       "      <td>3</td>\n",
       "      <td>male</td>\n",
       "      <td>22.0</td>\n",
       "      <td>1</td>\n",
       "      <td>0</td>\n",
       "      <td>7.2500</td>\n",
       "      <td>NaN</td>\n",
       "      <td>S</td>\n",
       "    </tr>\n",
       "    <tr>\n",
       "      <th>1</th>\n",
       "      <td>1</td>\n",
       "      <td>1</td>\n",
       "      <td>female</td>\n",
       "      <td>38.0</td>\n",
       "      <td>1</td>\n",
       "      <td>0</td>\n",
       "      <td>71.2833</td>\n",
       "      <td>C85</td>\n",
       "      <td>C</td>\n",
       "    </tr>\n",
       "    <tr>\n",
       "      <th>2</th>\n",
       "      <td>1</td>\n",
       "      <td>3</td>\n",
       "      <td>female</td>\n",
       "      <td>26.0</td>\n",
       "      <td>0</td>\n",
       "      <td>0</td>\n",
       "      <td>7.9250</td>\n",
       "      <td>NaN</td>\n",
       "      <td>S</td>\n",
       "    </tr>\n",
       "    <tr>\n",
       "      <th>3</th>\n",
       "      <td>1</td>\n",
       "      <td>1</td>\n",
       "      <td>female</td>\n",
       "      <td>35.0</td>\n",
       "      <td>1</td>\n",
       "      <td>0</td>\n",
       "      <td>53.1000</td>\n",
       "      <td>C123</td>\n",
       "      <td>S</td>\n",
       "    </tr>\n",
       "    <tr>\n",
       "      <th>4</th>\n",
       "      <td>0</td>\n",
       "      <td>3</td>\n",
       "      <td>male</td>\n",
       "      <td>35.0</td>\n",
       "      <td>0</td>\n",
       "      <td>0</td>\n",
       "      <td>8.0500</td>\n",
       "      <td>NaN</td>\n",
       "      <td>S</td>\n",
       "    </tr>\n",
       "  </tbody>\n",
       "</table>\n",
       "</div>"
      ],
      "text/plain": [
       "   Survived  Pclass     Sex   Age  SibSp  Parch     Fare Cabin Embarked\n",
       "0         0       3    male  22.0      1      0   7.2500   NaN        S\n",
       "1         1       1  female  38.0      1      0  71.2833   C85        C\n",
       "2         1       3  female  26.0      0      0   7.9250   NaN        S\n",
       "3         1       1  female  35.0      1      0  53.1000  C123        S\n",
       "4         0       3    male  35.0      0      0   8.0500   NaN        S"
      ]
     },
     "execution_count": 4,
     "metadata": {},
     "output_type": "execute_result"
    }
   ],
   "source": [
    "df_train.head()"
   ]
  },
  {
   "cell_type": "code",
   "execution_count": 5,
   "id": "25276dad",
   "metadata": {},
   "outputs": [],
   "source": [
    "X_train = df_train.iloc[:,1:]\n",
    "y_train = df_train['Survived']"
   ]
  },
  {
   "cell_type": "code",
   "execution_count": 6,
   "id": "09257eec",
   "metadata": {},
   "outputs": [],
   "source": [
    "## for test data\n",
    "X_test = pd.read_csv('test.csv')"
   ]
  },
  {
   "cell_type": "code",
   "execution_count": 7,
   "id": "f26e2add",
   "metadata": {},
   "outputs": [],
   "source": [
    "X_test = X_test.drop(['PassengerId','Name','Ticket'],axis=1)"
   ]
  },
  {
   "cell_type": "code",
   "execution_count": 8,
   "id": "2c426117",
   "metadata": {},
   "outputs": [
    {
     "data": {
      "text/html": [
       "<div>\n",
       "<style scoped>\n",
       "    .dataframe tbody tr th:only-of-type {\n",
       "        vertical-align: middle;\n",
       "    }\n",
       "\n",
       "    .dataframe tbody tr th {\n",
       "        vertical-align: top;\n",
       "    }\n",
       "\n",
       "    .dataframe thead th {\n",
       "        text-align: right;\n",
       "    }\n",
       "</style>\n",
       "<table border=\"1\" class=\"dataframe\">\n",
       "  <thead>\n",
       "    <tr style=\"text-align: right;\">\n",
       "      <th></th>\n",
       "      <th>Pclass</th>\n",
       "      <th>Sex</th>\n",
       "      <th>Age</th>\n",
       "      <th>SibSp</th>\n",
       "      <th>Parch</th>\n",
       "      <th>Fare</th>\n",
       "      <th>Cabin</th>\n",
       "      <th>Embarked</th>\n",
       "    </tr>\n",
       "  </thead>\n",
       "  <tbody>\n",
       "    <tr>\n",
       "      <th>0</th>\n",
       "      <td>3</td>\n",
       "      <td>male</td>\n",
       "      <td>34.5</td>\n",
       "      <td>0</td>\n",
       "      <td>0</td>\n",
       "      <td>7.8292</td>\n",
       "      <td>NaN</td>\n",
       "      <td>Q</td>\n",
       "    </tr>\n",
       "    <tr>\n",
       "      <th>1</th>\n",
       "      <td>3</td>\n",
       "      <td>female</td>\n",
       "      <td>47.0</td>\n",
       "      <td>1</td>\n",
       "      <td>0</td>\n",
       "      <td>7.0000</td>\n",
       "      <td>NaN</td>\n",
       "      <td>S</td>\n",
       "    </tr>\n",
       "    <tr>\n",
       "      <th>2</th>\n",
       "      <td>2</td>\n",
       "      <td>male</td>\n",
       "      <td>62.0</td>\n",
       "      <td>0</td>\n",
       "      <td>0</td>\n",
       "      <td>9.6875</td>\n",
       "      <td>NaN</td>\n",
       "      <td>Q</td>\n",
       "    </tr>\n",
       "    <tr>\n",
       "      <th>3</th>\n",
       "      <td>3</td>\n",
       "      <td>male</td>\n",
       "      <td>27.0</td>\n",
       "      <td>0</td>\n",
       "      <td>0</td>\n",
       "      <td>8.6625</td>\n",
       "      <td>NaN</td>\n",
       "      <td>S</td>\n",
       "    </tr>\n",
       "    <tr>\n",
       "      <th>4</th>\n",
       "      <td>3</td>\n",
       "      <td>female</td>\n",
       "      <td>22.0</td>\n",
       "      <td>1</td>\n",
       "      <td>1</td>\n",
       "      <td>12.2875</td>\n",
       "      <td>NaN</td>\n",
       "      <td>S</td>\n",
       "    </tr>\n",
       "  </tbody>\n",
       "</table>\n",
       "</div>"
      ],
      "text/plain": [
       "   Pclass     Sex   Age  SibSp  Parch     Fare Cabin Embarked\n",
       "0       3    male  34.5      0      0   7.8292   NaN        Q\n",
       "1       3  female  47.0      1      0   7.0000   NaN        S\n",
       "2       2    male  62.0      0      0   9.6875   NaN        Q\n",
       "3       3    male  27.0      0      0   8.6625   NaN        S\n",
       "4       3  female  22.0      1      1  12.2875   NaN        S"
      ]
     },
     "execution_count": 8,
     "metadata": {},
     "output_type": "execute_result"
    }
   ],
   "source": [
    "X_test.head()"
   ]
  },
  {
   "cell_type": "markdown",
   "id": "e30c519c",
   "metadata": {},
   "source": [
    "## Feature engineering - Filling Nan value"
   ]
  },
  {
   "cell_type": "code",
   "execution_count": 9,
   "id": "f095b145",
   "metadata": {},
   "outputs": [],
   "source": [
    "# for train\n",
    "X_train['Embarked'] = X_train.Embarked.fillna(X_train['Embarked'].value_counts().index[0])\n",
    "# for test\n",
    "X_test['Embarked'] = X_test.Embarked.fillna(X_test['Embarked'].value_counts().index[0])"
   ]
  },
  {
   "cell_type": "code",
   "execution_count": 10,
   "id": "20853b5b",
   "metadata": {},
   "outputs": [],
   "source": [
    "# for train\n",
    "X_train['Age'] = X_train.Age.fillna(X_train.Age.median())\n",
    "# for test\n",
    "X_test['Age'] = X_test.Age.fillna(X_test.Age.median())"
   ]
  },
  {
   "cell_type": "code",
   "execution_count": 11,
   "id": "c6ccfea6",
   "metadata": {},
   "outputs": [],
   "source": [
    "# for train\n",
    "X_train['Cabin'] = X_train.Cabin.fillna('Missing')\n",
    "X_train['Cabin'] = X_train.Cabin.astype(str).str[0]\n",
    "X_train['Cabin'] = X_train['Cabin'].replace(['M'],X_train.Cabin.value_counts().index[1])\n",
    "T_index = X_train.index[X_train['Cabin'] == 'T'][0]\n",
    "# for test\n",
    "X_test['Cabin'] = X_test.Cabin.fillna('Missing')\n",
    "X_test['Cabin'] = X_test.Cabin.astype(str).str[0]\n",
    "X_test['Cabin'] = X_test['Cabin'].replace(['M'],X_test.Cabin.value_counts().index[1])"
   ]
  },
  {
   "cell_type": "code",
   "execution_count": 12,
   "id": "d18d515a",
   "metadata": {},
   "outputs": [
    {
     "data": {
      "text/plain": [
       "339"
      ]
     },
     "execution_count": 12,
     "metadata": {},
     "output_type": "execute_result"
    }
   ],
   "source": [
    "T_index"
   ]
  },
  {
   "cell_type": "code",
   "execution_count": 13,
   "id": "ea466201",
   "metadata": {},
   "outputs": [],
   "source": [
    "X_train = X_train.drop(X_train[X_train.Cabin == 'T'].index)"
   ]
  },
  {
   "cell_type": "code",
   "execution_count": 14,
   "id": "4c650e0f",
   "metadata": {},
   "outputs": [],
   "source": [
    "main_y_train = y_train.drop(y_train.index[T_index])"
   ]
  },
  {
   "cell_type": "code",
   "execution_count": 15,
   "id": "2e2bd5d6",
   "metadata": {},
   "outputs": [
    {
     "data": {
      "text/plain": [
       "<seaborn.axisgrid.FacetGrid at 0x2987f39ad60>"
      ]
     },
     "execution_count": 15,
     "metadata": {},
     "output_type": "execute_result"
    },
    {
     "data": {
      "image/png": "[encoded data removed]",
      "text/plain": [
       "<Figure size 360x360 with 1 Axes>"
      ]
     },
     "metadata": {
      "needs_background": "light"
     },
     "output_type": "display_data"
    }
   ],
   "source": [
    "sns.displot(data=X_test,x='Fare',kde=True)"
   ]
  },
  {
   "cell_type": "code",
   "execution_count": 16,
   "id": "804d500d",
   "metadata": {},
   "outputs": [],
   "source": [
    "X_test['Fare'] = X_test.Fare.fillna(X_test.Fare.median())"
   ]
  },
  {
   "cell_type": "code",
   "execution_count": 17,
   "id": "8b04d5b2",
   "metadata": {},
   "outputs": [
    {
     "name": "stdout",
     "output_type": "stream",
     "text": [
      "Pclass      0\n",
      "Sex         0\n",
      "Age         0\n",
      "SibSp       0\n",
      "Parch       0\n",
      "Fare        0\n",
      "Cabin       0\n",
      "Embarked    0\n",
      "dtype: int64\n",
      "shape: (890, 8)\n"
     ]
    }
   ],
   "source": [
    "print(X_train.isnull().sum())\n",
    "print(f'shape: {X_train.shape}')"
   ]
  },
  {
   "cell_type": "code",
   "execution_count": 18,
   "id": "5585c542",
   "metadata": {},
   "outputs": [
    {
     "data": {
      "text/html": [
       "<div>\n",
       "<style scoped>\n",
       "    .dataframe tbody tr th:only-of-type {\n",
       "        vertical-align: middle;\n",
       "    }\n",
       "\n",
       "    .dataframe tbody tr th {\n",
       "        vertical-align: top;\n",
       "    }\n",
       "\n",
       "    .dataframe thead th {\n",
       "        text-align: right;\n",
       "    }\n",
       "</style>\n",
       "<table border=\"1\" class=\"dataframe\">\n",
       "  <thead>\n",
       "    <tr style=\"text-align: right;\">\n",
       "      <th></th>\n",
       "      <th>Pclass</th>\n",
       "      <th>Sex</th>\n",
       "      <th>Age</th>\n",
       "      <th>SibSp</th>\n",
       "      <th>Parch</th>\n",
       "      <th>Fare</th>\n",
       "      <th>Cabin</th>\n",
       "      <th>Embarked</th>\n",
       "    </tr>\n",
       "  </thead>\n",
       "  <tbody>\n",
       "    <tr>\n",
       "      <th>0</th>\n",
       "      <td>3</td>\n",
       "      <td>male</td>\n",
       "      <td>22.0</td>\n",
       "      <td>1</td>\n",
       "      <td>0</td>\n",
       "      <td>7.2500</td>\n",
       "      <td>C</td>\n",
       "      <td>S</td>\n",
       "    </tr>\n",
       "    <tr>\n",
       "      <th>1</th>\n",
       "      <td>1</td>\n",
       "      <td>female</td>\n",
       "      <td>38.0</td>\n",
       "      <td>1</td>\n",
       "      <td>0</td>\n",
       "      <td>71.2833</td>\n",
       "      <td>C</td>\n",
       "      <td>C</td>\n",
       "    </tr>\n",
       "    <tr>\n",
       "      <th>2</th>\n",
       "      <td>3</td>\n",
       "      <td>female</td>\n",
       "      <td>26.0</td>\n",
       "      <td>0</td>\n",
       "      <td>0</td>\n",
       "      <td>7.9250</td>\n",
       "      <td>C</td>\n",
       "      <td>S</td>\n",
       "    </tr>\n",
       "    <tr>\n",
       "      <th>3</th>\n",
       "      <td>1</td>\n",
       "      <td>female</td>\n",
       "      <td>35.0</td>\n",
       "      <td>1</td>\n",
       "      <td>0</td>\n",
       "      <td>53.1000</td>\n",
       "      <td>C</td>\n",
       "      <td>S</td>\n",
       "    </tr>\n",
       "    <tr>\n",
       "      <th>4</th>\n",
       "      <td>3</td>\n",
       "      <td>male</td>\n",
       "      <td>35.0</td>\n",
       "      <td>0</td>\n",
       "      <td>0</td>\n",
       "      <td>8.0500</td>\n",
       "      <td>C</td>\n",
       "      <td>S</td>\n",
       "    </tr>\n",
       "  </tbody>\n",
       "</table>\n",
       "</div>"
      ],
      "text/plain": [
       "   Pclass     Sex   Age  SibSp  Parch     Fare Cabin Embarked\n",
       "0       3    male  22.0      1      0   7.2500     C        S\n",
       "1       1  female  38.0      1      0  71.2833     C        C\n",
       "2       3  female  26.0      0      0   7.9250     C        S\n",
       "3       1  female  35.0      1      0  53.1000     C        S\n",
       "4       3    male  35.0      0      0   8.0500     C        S"
      ]
     },
     "execution_count": 18,
     "metadata": {},
     "output_type": "execute_result"
    }
   ],
   "source": [
    "X_train.head()"
   ]
  },
  {
   "cell_type": "code",
   "execution_count": 19,
   "id": "0e5d1f9c",
   "metadata": {},
   "outputs": [
    {
     "name": "stdout",
     "output_type": "stream",
     "text": [
      "Pclass      0\n",
      "Sex         0\n",
      "Age         0\n",
      "SibSp       0\n",
      "Parch       0\n",
      "Fare        0\n",
      "Cabin       0\n",
      "Embarked    0\n",
      "dtype: int64\n",
      "shape: (418, 8)\n"
     ]
    }
   ],
   "source": [
    "print(X_test.isnull().sum())\n",
    "print(f'shape: {X_test.shape}')"
   ]
  },
  {
   "cell_type": "code",
   "execution_count": 20,
   "id": "7d4bc495",
   "metadata": {},
   "outputs": [
    {
     "data": {
      "text/html": [
       "<div>\n",
       "<style scoped>\n",
       "    .dataframe tbody tr th:only-of-type {\n",
       "        vertical-align: middle;\n",
       "    }\n",
       "\n",
       "    .dataframe tbody tr th {\n",
       "        vertical-align: top;\n",
       "    }\n",
       "\n",
       "    .dataframe thead th {\n",
       "        text-align: right;\n",
       "    }\n",
       "</style>\n",
       "<table border=\"1\" class=\"dataframe\">\n",
       "  <thead>\n",
       "    <tr style=\"text-align: right;\">\n",
       "      <th></th>\n",
       "      <th>Pclass</th>\n",
       "      <th>Sex</th>\n",
       "      <th>Age</th>\n",
       "      <th>SibSp</th>\n",
       "      <th>Parch</th>\n",
       "      <th>Fare</th>\n",
       "      <th>Cabin</th>\n",
       "      <th>Embarked</th>\n",
       "    </tr>\n",
       "  </thead>\n",
       "  <tbody>\n",
       "    <tr>\n",
       "      <th>0</th>\n",
       "      <td>3</td>\n",
       "      <td>male</td>\n",
       "      <td>34.5</td>\n",
       "      <td>0</td>\n",
       "      <td>0</td>\n",
       "      <td>7.8292</td>\n",
       "      <td>C</td>\n",
       "      <td>Q</td>\n",
       "    </tr>\n",
       "    <tr>\n",
       "      <th>1</th>\n",
       "      <td>3</td>\n",
       "      <td>female</td>\n",
       "      <td>47.0</td>\n",
       "      <td>1</td>\n",
       "      <td>0</td>\n",
       "      <td>7.0000</td>\n",
       "      <td>C</td>\n",
       "      <td>S</td>\n",
       "    </tr>\n",
       "    <tr>\n",
       "      <th>2</th>\n",
       "      <td>2</td>\n",
       "      <td>male</td>\n",
       "      <td>62.0</td>\n",
       "      <td>0</td>\n",
       "      <td>0</td>\n",
       "      <td>9.6875</td>\n",
       "      <td>C</td>\n",
       "      <td>Q</td>\n",
       "    </tr>\n",
       "    <tr>\n",
       "      <th>3</th>\n",
       "      <td>3</td>\n",
       "      <td>male</td>\n",
       "      <td>27.0</td>\n",
       "      <td>0</td>\n",
       "      <td>0</td>\n",
       "      <td>8.6625</td>\n",
       "      <td>C</td>\n",
       "      <td>S</td>\n",
       "    </tr>\n",
       "    <tr>\n",
       "      <th>4</th>\n",
       "      <td>3</td>\n",
       "      <td>female</td>\n",
       "      <td>22.0</td>\n",
       "      <td>1</td>\n",
       "      <td>1</td>\n",
       "      <td>12.2875</td>\n",
       "      <td>C</td>\n",
       "      <td>S</td>\n",
       "    </tr>\n",
       "  </tbody>\n",
       "</table>\n",
       "</div>"
      ],
      "text/plain": [
       "   Pclass     Sex   Age  SibSp  Parch     Fare Cabin Embarked\n",
       "0       3    male  34.5      0      0   7.8292     C        Q\n",
       "1       3  female  47.0      1      0   7.0000     C        S\n",
       "2       2    male  62.0      0      0   9.6875     C        Q\n",
       "3       3    male  27.0      0      0   8.6625     C        S\n",
       "4       3  female  22.0      1      1  12.2875     C        S"
      ]
     },
     "execution_count": 20,
     "metadata": {},
     "output_type": "execute_result"
    }
   ],
   "source": [
    "X_test.head()"
   ]
  },
  {
   "cell_type": "code",
   "execution_count": 21,
   "id": "0b7740d1",
   "metadata": {},
   "outputs": [
    {
     "data": {
      "text/plain": [
       "(890,)"
      ]
     },
     "execution_count": 21,
     "metadata": {},
     "output_type": "execute_result"
    }
   ],
   "source": [
    "main_y_train.shape"
   ]
  },
  {
   "cell_type": "markdown",
   "id": "441f601e",
   "metadata": {},
   "source": [
    "## Handling Catagorical Features"
   ]
  },
  {
   "cell_type": "code",
   "execution_count": 22,
   "id": "699160b8",
   "metadata": {},
   "outputs": [
    {
     "data": {
      "text/html": [
       "<div>\n",
       "<style scoped>\n",
       "    .dataframe tbody tr th:only-of-type {\n",
       "        vertical-align: middle;\n",
       "    }\n",
       "\n",
       "    .dataframe tbody tr th {\n",
       "        vertical-align: top;\n",
       "    }\n",
       "\n",
       "    .dataframe thead th {\n",
       "        text-align: right;\n",
       "    }\n",
       "</style>\n",
       "<table border=\"1\" class=\"dataframe\">\n",
       "  <thead>\n",
       "    <tr style=\"text-align: right;\">\n",
       "      <th></th>\n",
       "      <th>Pclass</th>\n",
       "      <th>Age</th>\n",
       "      <th>SibSp</th>\n",
       "      <th>Parch</th>\n",
       "      <th>Fare</th>\n",
       "      <th>B</th>\n",
       "      <th>C</th>\n",
       "      <th>D</th>\n",
       "      <th>E</th>\n",
       "      <th>F</th>\n",
       "      <th>G</th>\n",
       "      <th>male</th>\n",
       "      <th>Q</th>\n",
       "      <th>S</th>\n",
       "    </tr>\n",
       "  </thead>\n",
       "  <tbody>\n",
       "    <tr>\n",
       "      <th>0</th>\n",
       "      <td>3</td>\n",
       "      <td>22.0</td>\n",
       "      <td>1</td>\n",
       "      <td>0</td>\n",
       "      <td>7.2500</td>\n",
       "      <td>0</td>\n",
       "      <td>1</td>\n",
       "      <td>0</td>\n",
       "      <td>0</td>\n",
       "      <td>0</td>\n",
       "      <td>0</td>\n",
       "      <td>1</td>\n",
       "      <td>0</td>\n",
       "      <td>1</td>\n",
       "    </tr>\n",
       "    <tr>\n",
       "      <th>1</th>\n",
       "      <td>1</td>\n",
       "      <td>38.0</td>\n",
       "      <td>1</td>\n",
       "      <td>0</td>\n",
       "      <td>71.2833</td>\n",
       "      <td>0</td>\n",
       "      <td>1</td>\n",
       "      <td>0</td>\n",
       "      <td>0</td>\n",
       "      <td>0</td>\n",
       "      <td>0</td>\n",
       "      <td>0</td>\n",
       "      <td>0</td>\n",
       "      <td>0</td>\n",
       "    </tr>\n",
       "    <tr>\n",
       "      <th>2</th>\n",
       "      <td>3</td>\n",
       "      <td>26.0</td>\n",
       "      <td>0</td>\n",
       "      <td>0</td>\n",
       "      <td>7.9250</td>\n",
       "      <td>0</td>\n",
       "      <td>1</td>\n",
       "      <td>0</td>\n",
       "      <td>0</td>\n",
       "      <td>0</td>\n",
       "      <td>0</td>\n",
       "      <td>0</td>\n",
       "      <td>0</td>\n",
       "      <td>1</td>\n",
       "    </tr>\n",
       "    <tr>\n",
       "      <th>3</th>\n",
       "      <td>1</td>\n",
       "      <td>35.0</td>\n",
       "      <td>1</td>\n",
       "      <td>0</td>\n",
       "      <td>53.1000</td>\n",
       "      <td>0</td>\n",
       "      <td>1</td>\n",
       "      <td>0</td>\n",
       "      <td>0</td>\n",
       "      <td>0</td>\n",
       "      <td>0</td>\n",
       "      <td>0</td>\n",
       "      <td>0</td>\n",
       "      <td>1</td>\n",
       "    </tr>\n",
       "    <tr>\n",
       "      <th>4</th>\n",
       "      <td>3</td>\n",
       "      <td>35.0</td>\n",
       "      <td>0</td>\n",
       "      <td>0</td>\n",
       "      <td>8.0500</td>\n",
       "      <td>0</td>\n",
       "      <td>1</td>\n",
       "      <td>0</td>\n",
       "      <td>0</td>\n",
       "      <td>0</td>\n",
       "      <td>0</td>\n",
       "      <td>1</td>\n",
       "      <td>0</td>\n",
       "      <td>1</td>\n",
       "    </tr>\n",
       "  </tbody>\n",
       "</table>\n",
       "</div>"
      ],
      "text/plain": [
       "   Pclass   Age  SibSp  Parch     Fare  B  C  D  E  F  G  male  Q  S\n",
       "0       3  22.0      1      0   7.2500  0  1  0  0  0  0     1  0  1\n",
       "1       1  38.0      1      0  71.2833  0  1  0  0  0  0     0  0  0\n",
       "2       3  26.0      0      0   7.9250  0  1  0  0  0  0     0  0  1\n",
       "3       1  35.0      1      0  53.1000  0  1  0  0  0  0     0  0  1\n",
       "4       3  35.0      0      0   8.0500  0  1  0  0  0  0     1  0  1"
      ]
     },
     "execution_count": 22,
     "metadata": {},
     "output_type": "execute_result"
    }
   ],
   "source": [
    "# for train\n",
    "X_train_cabin_dummies = pd.get_dummies(X_train['Cabin'],drop_first=True)\n",
    "X_train_sex_dummies = pd.get_dummies(X_train['Sex'],drop_first=True)\n",
    "X_train_embarked_dummies = pd.get_dummies(X_train['Embarked'],drop_first=True)\n",
    "\n",
    "main_X_train = pd.concat([X_train,X_train_cabin_dummies,X_train_sex_dummies,X_train_embarked_dummies],axis=1)\n",
    "\n",
    "main_X_train = main_X_train.drop(['Cabin','Sex','Embarked'],axis=1)\n",
    "\n",
    "main_X_train.head()"
   ]
  },
  {
   "cell_type": "code",
   "execution_count": 23,
   "id": "b4dd2f5f",
   "metadata": {},
   "outputs": [
    {
     "data": {
      "text/html": [
       "<div>\n",
       "<style scoped>\n",
       "    .dataframe tbody tr th:only-of-type {\n",
       "        vertical-align: middle;\n",
       "    }\n",
       "\n",
       "    .dataframe tbody tr th {\n",
       "        vertical-align: top;\n",
       "    }\n",
       "\n",
       "    .dataframe thead th {\n",
       "        text-align: right;\n",
       "    }\n",
       "</style>\n",
       "<table border=\"1\" class=\"dataframe\">\n",
       "  <thead>\n",
       "    <tr style=\"text-align: right;\">\n",
       "      <th></th>\n",
       "      <th>Pclass</th>\n",
       "      <th>Age</th>\n",
       "      <th>SibSp</th>\n",
       "      <th>Parch</th>\n",
       "      <th>Fare</th>\n",
       "      <th>B</th>\n",
       "      <th>C</th>\n",
       "      <th>D</th>\n",
       "      <th>E</th>\n",
       "      <th>F</th>\n",
       "      <th>G</th>\n",
       "      <th>male</th>\n",
       "      <th>Q</th>\n",
       "      <th>S</th>\n",
       "    </tr>\n",
       "  </thead>\n",
       "  <tbody>\n",
       "    <tr>\n",
       "      <th>0</th>\n",
       "      <td>3</td>\n",
       "      <td>34.5</td>\n",
       "      <td>0</td>\n",
       "      <td>0</td>\n",
       "      <td>7.8292</td>\n",
       "      <td>0</td>\n",
       "      <td>1</td>\n",
       "      <td>0</td>\n",
       "      <td>0</td>\n",
       "      <td>0</td>\n",
       "      <td>0</td>\n",
       "      <td>1</td>\n",
       "      <td>1</td>\n",
       "      <td>0</td>\n",
       "    </tr>\n",
       "    <tr>\n",
       "      <th>1</th>\n",
       "      <td>3</td>\n",
       "      <td>47.0</td>\n",
       "      <td>1</td>\n",
       "      <td>0</td>\n",
       "      <td>7.0000</td>\n",
       "      <td>0</td>\n",
       "      <td>1</td>\n",
       "      <td>0</td>\n",
       "      <td>0</td>\n",
       "      <td>0</td>\n",
       "      <td>0</td>\n",
       "      <td>0</td>\n",
       "      <td>0</td>\n",
       "      <td>1</td>\n",
       "    </tr>\n",
       "    <tr>\n",
       "      <th>2</th>\n",
       "      <td>2</td>\n",
       "      <td>62.0</td>\n",
       "      <td>0</td>\n",
       "      <td>0</td>\n",
       "      <td>9.6875</td>\n",
       "      <td>0</td>\n",
       "      <td>1</td>\n",
       "      <td>0</td>\n",
       "      <td>0</td>\n",
       "      <td>0</td>\n",
       "      <td>0</td>\n",
       "      <td>1</td>\n",
       "      <td>1</td>\n",
       "      <td>0</td>\n",
       "    </tr>\n",
       "    <tr>\n",
       "      <th>3</th>\n",
       "      <td>3</td>\n",
       "      <td>27.0</td>\n",
       "      <td>0</td>\n",
       "      <td>0</td>\n",
       "      <td>8.6625</td>\n",
       "      <td>0</td>\n",
       "      <td>1</td>\n",
       "      <td>0</td>\n",
       "      <td>0</td>\n",
       "      <td>0</td>\n",
       "      <td>0</td>\n",
       "      <td>1</td>\n",
       "      <td>0</td>\n",
       "      <td>1</td>\n",
       "    </tr>\n",
       "    <tr>\n",
       "      <th>4</th>\n",
       "      <td>3</td>\n",
       "      <td>22.0</td>\n",
       "      <td>1</td>\n",
       "      <td>1</td>\n",
       "      <td>12.2875</td>\n",
       "      <td>0</td>\n",
       "      <td>1</td>\n",
       "      <td>0</td>\n",
       "      <td>0</td>\n",
       "      <td>0</td>\n",
       "      <td>0</td>\n",
       "      <td>0</td>\n",
       "      <td>0</td>\n",
       "      <td>1</td>\n",
       "    </tr>\n",
       "  </tbody>\n",
       "</table>\n",
       "</div>"
      ],
      "text/plain": [
       "   Pclass   Age  SibSp  Parch     Fare  B  C  D  E  F  G  male  Q  S\n",
       "0       3  34.5      0      0   7.8292  0  1  0  0  0  0     1  1  0\n",
       "1       3  47.0      1      0   7.0000  0  1  0  0  0  0     0  0  1\n",
       "2       2  62.0      0      0   9.6875  0  1  0  0  0  0     1  1  0\n",
       "3       3  27.0      0      0   8.6625  0  1  0  0  0  0     1  0  1\n",
       "4       3  22.0      1      1  12.2875  0  1  0  0  0  0     0  0  1"
      ]
     },
     "execution_count": 23,
     "metadata": {},
     "output_type": "execute_result"
    }
   ],
   "source": [
    "# for test\n",
    "X_test_cabin_dummies = pd.get_dummies(X_test['Cabin'],drop_first=True)\n",
    "X_test_sex_dummies = pd.get_dummies(X_test['Sex'],drop_first=True)\n",
    "X_test_embarked_dummies = pd.get_dummies(X_test['Embarked'],drop_first=True)\n",
    "\n",
    "main_X_test = pd.concat([X_test,X_test_cabin_dummies,X_test_sex_dummies,X_test_embarked_dummies],axis=1)\n",
    "\n",
    "main_X_test = main_X_test.drop(['Cabin','Sex','Embarked'],axis=1)\n",
    "\n",
    "main_X_test.head()"
   ]
  },
  {
   "cell_type": "code",
   "execution_count": 24,
   "id": "a2a71bce",
   "metadata": {},
   "outputs": [],
   "source": [
    "## exporting the train file with target feature\n",
    "df_train_csv = pd.concat([main_X_train,main_y_train],axis=1)"
   ]
  },
  {
   "cell_type": "code",
   "execution_count": 25,
   "id": "94161ea4",
   "metadata": {},
   "outputs": [],
   "source": [
    "df_train_csv.to_csv('cleaned_train.csv')\n",
    "main_X_test.to_csv('cleaned_test.csv')"
   ]
  },
  {
   "cell_type": "code",
   "execution_count": 26,
   "id": "d8a4d48e",
   "metadata": {},
   "outputs": [],
   "source": [
    "# train test split in X_train and keeping the x_test for later"
   ]
  },
  {
   "cell_type": "code",
   "execution_count": 27,
   "id": "185dcfed",
   "metadata": {},
   "outputs": [],
   "source": [
    "from sklearn.model_selection import train_test_split"
   ]
  },
  {
   "cell_type": "code",
   "execution_count": 28,
   "id": "94d69624",
   "metadata": {},
   "outputs": [],
   "source": [
    "X_train ,X_test ,y_train ,y_test = train_test_split(main_X_train,main_y_train,test_size=0.3,random_state=0)"
   ]
  },
  {
   "cell_type": "markdown",
   "id": "eec1b343",
   "metadata": {},
   "source": [
    "### models we can use\n",
    "1. LogisticRegression\n",
    "2. XgBoost   ---------------> need tuning\n",
    "3. RandomForest ------------> need tuning\n",
    "4. DecisonTree -------------> need tuning\n",
    "5. KNN\n",
    "6. Gaussion Navie Bayes ----> need tuning\n",
    "7. SVM ---------------------> need tuning"
   ]
  },
  {
   "cell_type": "markdown",
   "id": "cf56b433",
   "metadata": {},
   "source": [
    "#### LogisticRegression"
   ]
  },
  {
   "cell_type": "code",
   "execution_count": 29,
   "id": "6dc89d7f",
   "metadata": {},
   "outputs": [],
   "source": [
    "from sklearn.linear_model import LogisticRegression\n",
    "from sklearn.metrics import accuracy_score ,classification_report ,confusion_matrix"
   ]
  },
  {
   "cell_type": "code",
   "execution_count": 30,
   "id": "1ee3f5f7",
   "metadata": {},
   "outputs": [],
   "source": [
    "lr = LogisticRegression()\n",
    "lr.fit(X_train ,y_train)\n",
    "y_pred = lr.predict(X_test)"
   ]
  },
  {
   "cell_type": "code",
   "execution_count": 31,
   "id": "2d0a3c65",
   "metadata": {},
   "outputs": [
    {
     "name": "stdout",
     "output_type": "stream",
     "text": [
      "0.7865168539325843\n",
      "              precision    recall  f1-score   support\n",
      "\n",
      "           0       0.82      0.86      0.84       173\n",
      "           1       0.72      0.65      0.68        94\n",
      "\n",
      "    accuracy                           0.79       267\n",
      "   macro avg       0.77      0.76      0.76       267\n",
      "weighted avg       0.78      0.79      0.78       267\n",
      "\n",
      "[[149  24]\n",
      " [ 33  61]]\n"
     ]
    }
   ],
   "source": [
    "print(accuracy_score(y_test ,y_pred))\n",
    "print(classification_report(y_test ,y_pred))\n",
    "print(confusion_matrix(y_test ,y_pred))"
   ]
  },
  {
   "cell_type": "markdown",
   "id": "45400d46",
   "metadata": {},
   "source": [
    "### KNN"
   ]
  },
  {
   "cell_type": "code",
   "execution_count": 32,
   "id": "260dffbc",
   "metadata": {},
   "outputs": [],
   "source": [
    "from sklearn.neighbors import KNeighborsClassifier"
   ]
  },
  {
   "cell_type": "code",
   "execution_count": 33,
   "id": "454788f7",
   "metadata": {},
   "outputs": [],
   "source": [
    "knn = KNeighborsClassifier(n_neighbors=5)\n",
    "knn.fit(X_train ,y_train)\n",
    "y_pred = knn.predict(X_test)"
   ]
  },
  {
   "cell_type": "code",
   "execution_count": 34,
   "id": "d5a1e752",
   "metadata": {},
   "outputs": [
    {
     "name": "stdout",
     "output_type": "stream",
     "text": [
      "0.7415730337078652\n",
      "              precision    recall  f1-score   support\n",
      "\n",
      "           0       0.81      0.79      0.80       173\n",
      "           1       0.63      0.66      0.64        94\n",
      "\n",
      "    accuracy                           0.74       267\n",
      "   macro avg       0.72      0.72      0.72       267\n",
      "weighted avg       0.75      0.74      0.74       267\n",
      "\n",
      "[[136  37]\n",
      " [ 32  62]]\n"
     ]
    }
   ],
   "source": [
    "print(accuracy_score(y_test ,y_pred))\n",
    "print(classification_report(y_test ,y_pred))\n",
    "print(confusion_matrix(y_test ,y_pred))"
   ]
  },
  {
   "cell_type": "markdown",
   "id": "ff710af2",
   "metadata": {},
   "source": [
    "### DecisionTree"
   ]
  },
  {
   "cell_type": "code",
   "execution_count": 35,
   "id": "4a46ca87",
   "metadata": {},
   "outputs": [],
   "source": [
    "from sklearn.tree import DecisionTreeClassifier"
   ]
  },
  {
   "cell_type": "code",
   "execution_count": 36,
   "id": "38e7ad3c",
   "metadata": {},
   "outputs": [],
   "source": [
    "dt = DecisionTreeClassifier()\n",
    "dt.fit(X_train ,y_train)\n",
    "y_pred = dt.predict(X_test)"
   ]
  },
  {
   "cell_type": "code",
   "execution_count": 37,
   "id": "423c8f34",
   "metadata": {},
   "outputs": [
    {
     "name": "stdout",
     "output_type": "stream",
     "text": [
      "0.7940074906367042\n",
      "              precision    recall  f1-score   support\n",
      "\n",
      "           0       0.83      0.86      0.84       173\n",
      "           1       0.72      0.67      0.70        94\n",
      "\n",
      "    accuracy                           0.79       267\n",
      "   macro avg       0.78      0.77      0.77       267\n",
      "weighted avg       0.79      0.79      0.79       267\n",
      "\n",
      "[[149  24]\n",
      " [ 31  63]]\n"
     ]
    }
   ],
   "source": [
    "print(accuracy_score(y_test ,y_pred))\n",
    "print(classification_report(y_test ,y_pred))\n",
    "print(confusion_matrix(y_test ,y_pred))"
   ]
  },
  {
   "cell_type": "markdown",
   "id": "6e951617",
   "metadata": {},
   "source": [
    "### RandomForest"
   ]
  },
  {
   "cell_type": "code",
   "execution_count": 38,
   "id": "7d47c81f",
   "metadata": {},
   "outputs": [],
   "source": [
    "from sklearn.ensemble import RandomForestClassifier"
   ]
  },
  {
   "cell_type": "code",
   "execution_count": 39,
   "id": "2faeb9f7",
   "metadata": {},
   "outputs": [],
   "source": [
    "rf = RandomForestClassifier()\n",
    "rf.fit(X_train,y_train)\n",
    "y_pred = rf.predict(X_test)"
   ]
  },
  {
   "cell_type": "code",
   "execution_count": 40,
   "id": "ea971231",
   "metadata": {},
   "outputs": [
    {
     "name": "stdout",
     "output_type": "stream",
     "text": [
      "0.8089887640449438\n",
      "              precision    recall  f1-score   support\n",
      "\n",
      "           0       0.85      0.86      0.85       173\n",
      "           1       0.74      0.71      0.72        94\n",
      "\n",
      "    accuracy                           0.81       267\n",
      "   macro avg       0.79      0.79      0.79       267\n",
      "weighted avg       0.81      0.81      0.81       267\n",
      "\n",
      "[[149  24]\n",
      " [ 27  67]]\n"
     ]
    }
   ],
   "source": [
    "print(accuracy_score(y_test ,y_pred))\n",
    "print(classification_report(y_test ,y_pred))\n",
    "print(confusion_matrix(y_test ,y_pred))"
   ]
  },
  {
   "cell_type": "markdown",
   "id": "83b57ae8",
   "metadata": {},
   "source": [
    "### Navie Bayes"
   ]
  },
  {
   "cell_type": "code",
   "execution_count": 41,
   "id": "65d5ff84",
   "metadata": {},
   "outputs": [],
   "source": [
    "from sklearn.naive_bayes import GaussianNB"
   ]
  },
  {
   "cell_type": "code",
   "execution_count": 42,
   "id": "12da896a",
   "metadata": {},
   "outputs": [],
   "source": [
    "nb = GaussianNB()\n",
    "nb.fit(X_train,y_train)\n",
    "y_pred = nb.predict(X_test)"
   ]
  },
  {
   "cell_type": "code",
   "execution_count": 43,
   "id": "ce1d8e79",
   "metadata": {},
   "outputs": [
    {
     "name": "stdout",
     "output_type": "stream",
     "text": [
      "0.7340823970037453\n",
      "              precision    recall  f1-score   support\n",
      "\n",
      "           0       0.75      0.90      0.81       173\n",
      "           1       0.69      0.44      0.54        94\n",
      "\n",
      "    accuracy                           0.73       267\n",
      "   macro avg       0.72      0.67      0.67       267\n",
      "weighted avg       0.73      0.73      0.72       267\n",
      "\n",
      "[[155  18]\n",
      " [ 53  41]]\n"
     ]
    }
   ],
   "source": [
    "print(accuracy_score(y_test ,y_pred))\n",
    "print(classification_report(y_test ,y_pred))\n",
    "print(confusion_matrix(y_test ,y_pred))"
   ]
  },
  {
   "cell_type": "markdown",
   "id": "f2b21a01",
   "metadata": {},
   "source": [
    "### SVM"
   ]
  },
  {
   "cell_type": "code",
   "execution_count": 44,
   "id": "df4fcd5f",
   "metadata": {},
   "outputs": [],
   "source": [
    "from sklearn.svm import SVC"
   ]
  },
  {
   "cell_type": "code",
   "execution_count": 45,
   "id": "8c8e54a2",
   "metadata": {},
   "outputs": [],
   "source": [
    "svm =SVC()\n",
    "svm.fit(X_train ,y_train)\n",
    "y_pred = svm.predict(X_test)"
   ]
  },
  {
   "cell_type": "code",
   "execution_count": 46,
   "id": "ffd732a2",
   "metadata": {},
   "outputs": [
    {
     "name": "stdout",
     "output_type": "stream",
     "text": [
      "0.7228464419475655\n",
      "              precision    recall  f1-score   support\n",
      "\n",
      "           0       0.72      0.94      0.81       173\n",
      "           1       0.74      0.33      0.46        94\n",
      "\n",
      "    accuracy                           0.72       267\n",
      "   macro avg       0.73      0.63      0.63       267\n",
      "weighted avg       0.73      0.72      0.69       267\n",
      "\n",
      "[[162  11]\n",
      " [ 63  31]]\n"
     ]
    }
   ],
   "source": [
    "print(accuracy_score(y_test ,y_pred))\n",
    "print(classification_report(y_test ,y_pred))\n",
    "print(confusion_matrix(y_test ,y_pred))"
   ]
  },
  {
   "cell_type": "markdown",
   "id": "38f1ef1b",
   "metadata": {},
   "source": [
    "### Xgboost"
   ]
  },
  {
   "cell_type": "code",
   "execution_count": 47,
   "id": "82a13590",
   "metadata": {},
   "outputs": [],
   "source": [
    "from xgboost import XGBClassifier"
   ]
  },
  {
   "cell_type": "code",
   "execution_count": 48,
   "id": "bc383102",
   "metadata": {},
   "outputs": [
    {
     "name": "stdout",
     "output_type": "stream",
     "text": [
      "[10:03:23] WARNING: ..\\src\\learner.cc:1061: Starting in XGBoost 1.3.0, the default evaluation metric used with the objective 'binary:logistic' was changed from 'error' to 'logloss'. Explicitly set eval_metric if you'd like to restore the old behavior.\n"
     ]
    }
   ],
   "source": [
    "xgb = XGBClassifier()\n",
    "xgb.fit(X_train,y_train)\n",
    "y_pred = xgb.predict(X_test)"
   ]
  },
  {
   "cell_type": "code",
   "execution_count": 49,
   "id": "ada5f385",
   "metadata": {},
   "outputs": [
    {
     "name": "stdout",
     "output_type": "stream",
     "text": [
      "0.7940074906367042\n",
      "              precision    recall  f1-score   support\n",
      "\n",
      "           0       0.84      0.85      0.84       173\n",
      "           1       0.71      0.69      0.70        94\n",
      "\n",
      "    accuracy                           0.79       267\n",
      "   macro avg       0.77      0.77      0.77       267\n",
      "weighted avg       0.79      0.79      0.79       267\n",
      "\n",
      "[[147  26]\n",
      " [ 29  65]]\n"
     ]
    }
   ],
   "source": [
    "print(accuracy_score(y_test ,y_pred))\n",
    "print(classification_report(y_test ,y_pred))\n",
    "print(confusion_matrix(y_test ,y_pred))"
   ]
  },
  {
   "cell_type": "markdown",
   "id": "cde240f1",
   "metadata": {},
   "source": [
    "## Model Accuracy\n",
    "1. LogisticRegression ------> 0.78\n",
    "2. XgBoost   ---------------> 0.79\n",
    "3. RandomForest ------------> 0.80\n",
    "4. DecisonTree -------------> 0.79\n",
    "5. KNN ---------------------> 0.74\n",
    "6. Gaussion Navie Bayes ----> 0.73\n",
    "7. SVM ---------------------> 0.72"
   ]
  },
  {
   "cell_type": "markdown",
   "id": "a3cc258f",
   "metadata": {},
   "source": [
    "## Hpyerparameter tunning for model"
   ]
  },
  {
   "cell_type": "code",
   "execution_count": 50,
   "id": "9129932a",
   "metadata": {},
   "outputs": [],
   "source": [
    "from sklearn.model_selection import RandomizedSearchCV\n",
    "## function for traning\n",
    "def RandomSerchCvFunction(estimator ,param,X_train,y_train,X_test,y_test):\n",
    "    rsc = RandomizedSearchCV(estimator=estimator,param_distributions=param,n_iter=10,n_jobs=-1\n",
    "                            ,cv=10,verbose=3,scoring='roc_auc')\n",
    "    rsc.fit(X_train,y_train)\n",
    "    print(\"\\nBest Estimators...........................\")\n",
    "    print(rsc.best_estimator_)\n",
    "    print(\"\\nBest Parameters...........................\")\n",
    "    print(rsc.best_params_)\n",
    "    y_pred = rsc.best_estimator_.predict(X_test)\n",
    "    print(\"\\nAccuracy...........................\")\n",
    "    print(accuracy_score(y_test ,y_pred))\n",
    "    print(\"\\nClassification Report...........................\")\n",
    "    print(classification_report(y_test ,y_pred))\n",
    "    print(\"\\nConfusion Matrics...........................\")\n",
    "    print(confusion_matrix(y_test ,y_pred))"
   ]
  },
  {
   "cell_type": "markdown",
   "id": "a5c5f66d",
   "metadata": {},
   "source": [
    "### XGBoost tunning"
   ]
  },
  {
   "cell_type": "code",
   "execution_count": 51,
   "id": "efefe87d",
   "metadata": {},
   "outputs": [],
   "source": [
    "param={'max_depth':[ 3, 18, 1],\n",
    "        'gamma': [1,9],\n",
    "        'reg_alpha' : [40,180,1],\n",
    "        'reg_lambda' : [0,1],\n",
    "        'colsample_bytree' : [0.5,1],\n",
    "        'min_child_weight' : [0, 10, 1],\n",
    "        'n_estimators': [100,120,150,180],\n",
    "        'seed': [0]\n",
    "    }"
   ]
  },
  {
   "cell_type": "code",
   "execution_count": 52,
   "id": "b68ca4f8",
   "metadata": {},
   "outputs": [],
   "source": [
    "xgb_tunning = XGBClassifier()"
   ]
  },
  {
   "cell_type": "code",
   "execution_count": 53,
   "id": "44a9fd0c",
   "metadata": {},
   "outputs": [
    {
     "name": "stdout",
     "output_type": "stream",
     "text": [
      "Fitting 10 folds for each of 10 candidates, totalling 100 fits\n",
      "[10:07:21] WARNING: ..\\src\\learner.cc:1061: Starting in XGBoost 1.3.0, the default evaluation metric used with the objective 'binary:logistic' was changed from 'error' to 'logloss'. Explicitly set eval_metric if you'd like to restore the old behavior.\n",
      "\n",
      "Best Estimators...........................\n",
      "XGBClassifier(base_score=0.5, booster='gbtree', colsample_bylevel=1,\n",
      "              colsample_bynode=1, colsample_bytree=0.5, gamma=9, gpu_id=-1,\n",
      "              importance_type='gain', interaction_constraints='',\n",
      "              learning_rate=0.300000012, max_delta_step=0, max_depth=18,\n",
      "              min_child_weight=10, missing=nan, monotone_constraints='()',\n",
      "              n_estimators=150, n_jobs=8, num_parallel_tree=1, random_state=0,\n",
      "              reg_alpha=1, reg_lambda=0, scale_pos_weight=1, seed=0,\n",
      "              subsample=1, tree_method='exact', validate_parameters=1,\n",
      "              verbosity=None)\n",
      "\n",
      "Best Parameters...........................\n",
      "{'seed': 0, 'reg_lambda': 0, 'reg_alpha': 1, 'n_estimators': 150, 'min_child_weight': 10, 'max_depth': 18, 'gamma': 9, 'colsample_bytree': 0.5}\n",
      "\n",
      "Accuracy...........................\n",
      "0.7677902621722846\n",
      "\n",
      "Classification Report...........................\n",
      "              precision    recall  f1-score   support\n",
      "\n",
      "           0       0.81      0.84      0.82       173\n",
      "           1       0.69      0.63      0.66        94\n",
      "\n",
      "    accuracy                           0.77       267\n",
      "   macro avg       0.75      0.74      0.74       267\n",
      "weighted avg       0.76      0.77      0.77       267\n",
      "\n",
      "\n",
      "Confusion Matrics...........................\n",
      "[[146  27]\n",
      " [ 35  59]]\n"
     ]
    }
   ],
   "source": [
    "RandomSerchCvFunction(xgb_tunning,param,X_train,y_train,X_test,y_test)"
   ]
  },
  {
   "cell_type": "markdown",
   "id": "1ceb8daa",
   "metadata": {},
   "source": [
    "#### XGB after tunned -------> 0.76"
   ]
  },
  {
   "cell_type": "markdown",
   "id": "37bf172b",
   "metadata": {},
   "source": [
    "### RandomForest tunning"
   ]
  },
  {
   "cell_type": "code",
   "execution_count": 54,
   "id": "fe761a82",
   "metadata": {},
   "outputs": [],
   "source": [
    "rf_tunning = RandomForestClassifier()"
   ]
  },
  {
   "cell_type": "code",
   "execution_count": 55,
   "id": "3a9b09af",
   "metadata": {},
   "outputs": [],
   "source": [
    "param = {'n_estimators': [10, 25],\n",
    "              'max_features': [5, 10],\n",
    "              'max_depth': [10, 50, None],\n",
    "              'bootstrap': [True, False]\n",
    "             }"
   ]
  },
  {
   "cell_type": "code",
   "execution_count": 56,
   "id": "ebde35ed",
   "metadata": {},
   "outputs": [
    {
     "name": "stdout",
     "output_type": "stream",
     "text": [
      "Fitting 10 folds for each of 10 candidates, totalling 100 fits\n",
      "\n",
      "Best Estimators...........................\n",
      "RandomForestClassifier(max_features=10, n_estimators=10)\n",
      "\n",
      "Best Parameters...........................\n",
      "{'n_estimators': 10, 'max_features': 10, 'max_depth': None, 'bootstrap': True}\n",
      "\n",
      "Accuracy...........................\n",
      "0.7752808988764045\n",
      "\n",
      "Classification Report...........................\n",
      "              precision    recall  f1-score   support\n",
      "\n",
      "           0       0.79      0.88      0.84       173\n",
      "           1       0.73      0.57      0.64        94\n",
      "\n",
      "    accuracy                           0.78       267\n",
      "   macro avg       0.76      0.73      0.74       267\n",
      "weighted avg       0.77      0.78      0.77       267\n",
      "\n",
      "\n",
      "Confusion Matrics...........................\n",
      "[[153  20]\n",
      " [ 40  54]]\n"
     ]
    }
   ],
   "source": [
    "RandomSerchCvFunction(rf_tunning,param,X_train,y_train,X_test,y_test)"
   ]
  },
  {
   "cell_type": "markdown",
   "id": "674737e4",
   "metadata": {},
   "source": [
    "### Accurcy ----------> 0.77"
   ]
  },
  {
   "cell_type": "markdown",
   "id": "d4a827f3",
   "metadata": {},
   "source": [
    "### DecisionTree Tunning"
   ]
  },
  {
   "cell_type": "code",
   "execution_count": 57,
   "id": "c6c2c8a6",
   "metadata": {},
   "outputs": [],
   "source": [
    "dt_tunning = DecisionTreeClassifier()"
   ]
  },
  {
   "cell_type": "code",
   "execution_count": 58,
   "id": "4900569e",
   "metadata": {},
   "outputs": [],
   "source": [
    "params = {\n",
    "    'max_depth': [2, 3, 5, 10, 20],\n",
    "    'min_samples_leaf': [5, 10, 20, 50, 100],\n",
    "    'criterion': [\"gini\", \"entropy\"]\n",
    "}"
   ]
  },
  {
   "cell_type": "code",
   "execution_count": 59,
   "id": "92128770",
   "metadata": {},
   "outputs": [
    {
     "name": "stdout",
     "output_type": "stream",
     "text": [
      "Fitting 10 folds for each of 10 candidates, totalling 100 fits\n",
      "\n",
      "Best Estimators...........................\n",
      "DecisionTreeClassifier(max_depth=3, min_samples_leaf=5)\n",
      "\n",
      "Best Parameters...........................\n",
      "{'min_samples_leaf': 5, 'max_depth': 3, 'criterion': 'gini'}\n",
      "\n",
      "Accuracy...........................\n",
      "0.7902621722846442\n",
      "\n",
      "Classification Report...........................\n",
      "              precision    recall  f1-score   support\n",
      "\n",
      "           0       0.79      0.93      0.85       173\n",
      "           1       0.81      0.53      0.64        94\n",
      "\n",
      "    accuracy                           0.79       267\n",
      "   macro avg       0.80      0.73      0.75       267\n",
      "weighted avg       0.79      0.79      0.78       267\n",
      "\n",
      "\n",
      "Confusion Matrics...........................\n",
      "[[161  12]\n",
      " [ 44  50]]\n"
     ]
    }
   ],
   "source": [
    "RandomSerchCvFunction(dt_tunning,params,X_train,y_train,X_test,y_test)"
   ]
  },
  {
   "cell_type": "markdown",
   "id": "7f8ff471",
   "metadata": {},
   "source": [
    "#### Accuracy ---------> 0.79"
   ]
  },
  {
   "cell_type": "markdown",
   "id": "54fd517c",
   "metadata": {},
   "source": [
    "### KNN"
   ]
  },
  {
   "cell_type": "code",
   "execution_count": 60,
   "id": "7b74013b",
   "metadata": {},
   "outputs": [],
   "source": [
    "knn_clf = KNeighborsClassifier()"
   ]
  },
  {
   "cell_type": "code",
   "execution_count": 61,
   "id": "131bc86e",
   "metadata": {},
   "outputs": [],
   "source": [
    "params = { 'n_neighbors' : [5,7,9,11,13,15],\n",
    "               'weights' : ['uniform','distance'],\n",
    "               'metric' : ['minkowski','euclidean','manhattan']}"
   ]
  },
  {
   "cell_type": "code",
   "execution_count": 62,
   "id": "cca3acb7",
   "metadata": {},
   "outputs": [
    {
     "name": "stdout",
     "output_type": "stream",
     "text": [
      "Fitting 10 folds for each of 10 candidates, totalling 100 fits\n",
      "\n",
      "Best Estimators...........................\n",
      "KNeighborsClassifier(metric='manhattan', n_neighbors=9)\n",
      "\n",
      "Best Parameters...........................\n",
      "{'weights': 'uniform', 'n_neighbors': 9, 'metric': 'manhattan'}\n",
      "\n",
      "Accuracy...........................\n",
      "0.7602996254681648\n",
      "\n",
      "Classification Report...........................\n",
      "              precision    recall  f1-score   support\n",
      "\n",
      "           0       0.82      0.82      0.82       173\n",
      "           1       0.66      0.66      0.66        94\n",
      "\n",
      "    accuracy                           0.76       267\n",
      "   macro avg       0.74      0.74      0.74       267\n",
      "weighted avg       0.76      0.76      0.76       267\n",
      "\n",
      "\n",
      "Confusion Matrics...........................\n",
      "[[141  32]\n",
      " [ 32  62]]\n"
     ]
    }
   ],
   "source": [
    "RandomSerchCvFunction(knn_clf,params,X_train,y_train,X_test,y_test)"
   ]
  },
  {
   "cell_type": "markdown",
   "id": "02d2f190",
   "metadata": {},
   "source": [
    "## Accuracy ----------> 0.76"
   ]
  },
  {
   "cell_type": "markdown",
   "id": "1ebdf425",
   "metadata": {},
   "source": [
    "### Naive Bayes"
   ]
  },
  {
   "cell_type": "code",
   "execution_count": 63,
   "id": "34e4e109",
   "metadata": {},
   "outputs": [],
   "source": [
    "naive_clf = GaussianNB()"
   ]
  },
  {
   "cell_type": "code",
   "execution_count": 64,
   "id": "9b554c69",
   "metadata": {},
   "outputs": [],
   "source": [
    "params = {'var_smoothing': np.logspace(0,-9, num=100)}"
   ]
  },
  {
   "cell_type": "code",
   "execution_count": 65,
   "id": "1f69ef06",
   "metadata": {},
   "outputs": [
    {
     "name": "stdout",
     "output_type": "stream",
     "text": [
      "Fitting 10 folds for each of 10 candidates, totalling 100 fits\n",
      "\n",
      "Best Estimators...........................\n",
      "GaussianNB(var_smoothing=8.111308307896872e-05)\n",
      "\n",
      "Best Parameters...........................\n",
      "{'var_smoothing': 8.111308307896872e-05}\n",
      "\n",
      "Accuracy...........................\n",
      "0.7415730337078652\n",
      "\n",
      "Classification Report...........................\n",
      "              precision    recall  f1-score   support\n",
      "\n",
      "           0       0.74      0.93      0.82       173\n",
      "           1       0.76      0.39      0.52        94\n",
      "\n",
      "    accuracy                           0.74       267\n",
      "   macro avg       0.75      0.66      0.67       267\n",
      "weighted avg       0.74      0.74      0.72       267\n",
      "\n",
      "\n",
      "Confusion Matrics...........................\n",
      "[[161  12]\n",
      " [ 57  37]]\n"
     ]
    }
   ],
   "source": [
    "RandomSerchCvFunction(naive_clf,params,X_train,y_train,X_test,y_test)"
   ]
  },
  {
   "cell_type": "markdown",
   "id": "74ca6fc2",
   "metadata": {},
   "source": [
    "#### Accuracy ------> 0.74"
   ]
  },
  {
   "cell_type": "markdown",
   "id": "752e9b1d",
   "metadata": {},
   "source": [
    "### SVM"
   ]
  },
  {
   "cell_type": "code",
   "execution_count": 67,
   "id": "b5af51da",
   "metadata": {},
   "outputs": [],
   "source": [
    "svm_clf = SVC()"
   ]
  },
  {
   "cell_type": "code",
   "execution_count": 68,
   "id": "37a5088b",
   "metadata": {},
   "outputs": [],
   "source": [
    "param = {'kernel': ['rbf','sigmoid','linear'],\n",
    "         'gamma': [1e-2, 1e-3, 1e-4, 1e-5],\n",
    "         'C': [0.001, 0.10, 0.1, 10, 25, 50, 100, 1000],\n",
    "        }"
   ]
  },
  {
   "cell_type": "code",
   "execution_count": 69,
   "id": "8bea50ef",
   "metadata": {},
   "outputs": [
    {
     "name": "stdout",
     "output_type": "stream",
     "text": [
      "Fitting 10 folds for each of 10 candidates, totalling 100 fits\n",
      "\n",
      "Best Estimators...........................\n",
      "SVC(C=1000, gamma=0.0001)\n",
      "\n",
      "Best Parameters...........................\n",
      "{'kernel': 'rbf', 'gamma': 0.0001, 'C': 1000}\n",
      "\n",
      "Accuracy...........................\n",
      "0.7677902621722846\n",
      "\n",
      "Classification Report...........................\n",
      "              precision    recall  f1-score   support\n",
      "\n",
      "           0       0.81      0.84      0.82       173\n",
      "           1       0.68      0.64      0.66        94\n",
      "\n",
      "    accuracy                           0.77       267\n",
      "   macro avg       0.75      0.74      0.74       267\n",
      "weighted avg       0.76      0.77      0.77       267\n",
      "\n",
      "\n",
      "Confusion Matrics...........................\n",
      "[[145  28]\n",
      " [ 34  60]]\n"
     ]
    }
   ],
   "source": [
    "RandomSerchCvFunction(svm_clf,param,X_train,y_train,X_test,y_test)"
   ]
  },
  {
   "cell_type": "markdown",
   "id": "2744c9e6",
   "metadata": {},
   "source": [
    "#### Accuracy -----------> 0.76"
   ]
  },
  {
   "cell_type": "markdown",
   "id": "b6890c0e",
   "metadata": {},
   "source": [
    "### Logistic Regression"
   ]
  },
  {
   "cell_type": "code",
   "execution_count": 70,
   "id": "ee914ed1",
   "metadata": {},
   "outputs": [],
   "source": [
    "lr_clf =LogisticRegression()"
   ]
  },
  {
   "cell_type": "code",
   "execution_count": 71,
   "id": "2f56bbd8",
   "metadata": {},
   "outputs": [],
   "source": [
    "param = {'penalty' : ['l1', 'l2', 'elasticnet', 'none'],\n",
    "    'C' : np.logspace(-4, 4, 20),\n",
    "    'solver' : ['lbfgs','newton-cg','liblinear','sag','saga'],\n",
    "    'max_iter' : [100, 1000,2500, 5000]\n",
    "    } \n",
    "    "
   ]
  },
  {
   "cell_type": "code",
   "execution_count": 72,
   "id": "9ee83ffa",
   "metadata": {},
   "outputs": [
    {
     "name": "stdout",
     "output_type": "stream",
     "text": [
      "Fitting 10 folds for each of 10 candidates, totalling 100 fits\n",
      "\n",
      "Best Estimators...........................\n",
      "LogisticRegression(C=4.281332398719396, solver='liblinear')\n",
      "\n",
      "Best Parameters...........................\n",
      "{'solver': 'liblinear', 'penalty': 'l2', 'max_iter': 100, 'C': 4.281332398719396}\n",
      "\n",
      "Accuracy...........................\n",
      "0.7902621722846442\n",
      "\n",
      "Classification Report...........................\n",
      "              precision    recall  f1-score   support\n",
      "\n",
      "           0       0.82      0.86      0.84       173\n",
      "           1       0.72      0.66      0.69        94\n",
      "\n",
      "    accuracy                           0.79       267\n",
      "   macro avg       0.77      0.76      0.77       267\n",
      "weighted avg       0.79      0.79      0.79       267\n",
      "\n",
      "\n",
      "Confusion Matrics...........................\n",
      "[[149  24]\n",
      " [ 32  62]]\n"
     ]
    }
   ],
   "source": [
    "RandomSerchCvFunction(lr_clf,param,X_train,y_train,X_test,y_test)"
   ]
  },
  {
   "cell_type": "markdown",
   "id": "36eb23ae",
   "metadata": {},
   "source": [
    "#### Accuracy 0.79"
   ]
  },
  {
   "cell_type": "markdown",
   "id": "9579d5c0",
   "metadata": {},
   "source": [
    "## For main Test data Prediction\n"
   ]
  },
  {
   "cell_type": "code",
   "execution_count": 78,
   "id": "b908975a",
   "metadata": {},
   "outputs": [],
   "source": [
    "dt_classifier = DecisionTreeClassifier(max_depth=3, min_samples_leaf=5)"
   ]
  },
  {
   "cell_type": "code",
   "execution_count": 79,
   "id": "1d733002",
   "metadata": {},
   "outputs": [
    {
     "data": {
      "text/plain": [
       "DecisionTreeClassifier(max_depth=3, min_samples_leaf=5)"
      ]
     },
     "execution_count": 79,
     "metadata": {},
     "output_type": "execute_result"
    }
   ],
   "source": [
    "dt_classifier.fit(X_train,y_train)"
   ]
  },
  {
   "cell_type": "code",
   "execution_count": 81,
   "id": "9df74fad",
   "metadata": {},
   "outputs": [],
   "source": [
    "import pickle\n",
    "pickle.dump(dt_classifier,open('DT_Classifier.pkl','wb'))"
   ]
  },
  {
   "cell_type": "code",
   "execution_count": 80,
   "id": "3cf35bc7",
   "metadata": {},
   "outputs": [],
   "source": [
    "y_predicted = dt_classifier.predict(main_X_test)"
   ]
  },
  {
   "cell_type": "markdown",
   "id": "1d3aebe6",
   "metadata": {},
   "source": [
    "### Create sample submission file"
   ]
  },
  {
   "cell_type": "code",
   "execution_count": 84,
   "id": "626879aa",
   "metadata": {},
   "outputs": [],
   "source": [
    "pred = pd.DataFrame(y_predicted)\n",
    "sub_df = pd.read_csv('gender_submission.csv')\n",
    "datasets = pd.concat([sub_df['PassengerId'],pred],axis=1)\n",
    "datasets.columns=['PassengerId','Survived']\n",
    "datasets.to_csv('Gender_submission_mine.csv',index=False)"
   ]
  },
  {
   "cell_type": "code",
   "execution_count": null,
   "id": "2054e553",
   "metadata": {},
   "outputs": [],
   "source": []
  },
  {
   "cell_type": "code",
   "execution_count": null,
   "id": "11103231",
   "metadata": {},
   "outputs": [],
   "source": []
  }
 ],
 "metadata": {
  "kernelspec": {
   "display_name": "Python 3",
   "language": "python",
   "name": "python3"
  },
  "language_info": {
   "codemirror_mode": {
    "name": "ipython",
    "version": 3
   },
   "file_extension": ".py",
   "mimetype": "text/x-python",
   "name": "python",
   "nbconvert_exporter": "python",
   "pygments_lexer": "ipython3",
   "version": "3.8.10"
  }
 },
 "nbformat": 4,
 "nbformat_minor": 5
}
